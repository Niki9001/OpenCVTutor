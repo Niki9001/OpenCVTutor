{
 "cells": [
  {
   "cell_type": "markdown",
   "id": "a6afe129-0253-45ec-ac6b-b0e2a4e00b7a",
   "metadata": {},
   "source": [
    "## Read pixel"
   ]
  },
  {
   "cell_type": "markdown",
   "id": "1e1eee6d-bdde-4e86-9cb4-b04241a00af0",
   "metadata": {},
   "source": [
    "### Read image first"
   ]
  },
  {
   "cell_type": "code",
   "execution_count": 26,
   "id": "c931058d-2233-4f4d-88fc-c9cf4f19616a",
   "metadata": {},
   "outputs": [],
   "source": [
    "import cv2\n",
    "path = \"I:\\\\openCV\\\\test.jpg\"\n",
    "# be careful of path and \\\\\n",
    "image = cv2.imread(path,flags=0)\n",
    "# check if the image load successfully or not \n",
    "if image is None:\n",
    "    print(\"Fail to load\")\n",
    "else:\n",
    "    cv2.imshow('image', image)\n",
    "    cv2.waitKey(0)\n",
    "    cv2.destroyAllWindows()"
   ]
  },
  {
   "cell_type": "markdown",
   "id": "d3e57b15-9d7b-4497-b2b2-d988c2cc236b",
   "metadata": {},
   "source": [
    "### Check the grayscale value"
   ]
  },
  {
   "cell_type": "code",
   "execution_count": 17,
   "id": "6d5e21e8-4026-43aa-9638-bd0f0a5931ed",
   "metadata": {},
   "outputs": [
    {
     "data": {
      "text/plain": [
       "172"
      ]
     },
     "execution_count": 17,
     "metadata": {},
     "output_type": "execute_result"
    }
   ],
   "source": [
    "p = image[88,152] #第88行，142列的值\n",
    "p"
   ]
  },
  {
   "cell_type": "markdown",
   "id": "81b31dac-9268-4d08-bec5-fdca3e6fceaf",
   "metadata": {},
   "source": [
    "Return value is 172. The grayscale usually start from 0 to 255, 0 means black, and 255 means white."
   ]
  },
  {
   "cell_type": "markdown",
   "id": "25835952-780e-49d4-baff-7a55e494079a",
   "metadata": {},
   "source": [
    "### Check BGR value.\n",
    "#### read image first"
   ]
  },
  {
   "cell_type": "code",
   "execution_count": 18,
   "id": "d161d284-38cb-4093-a4a0-e493592d7ea3",
   "metadata": {},
   "outputs": [],
   "source": [
    "image1 = cv2.imread(path) # no flag means BGR image\n",
    "# check if the image load successfully or not \n",
    "if image1 is None:\n",
    "    print(\"Fail to load\")\n",
    "else:\n",
    "    cv2.imshow('image', image1)\n",
    "    cv2.waitKey(0)\n",
    "    cv2.destroyAllWindows()"
   ]
  },
  {
   "cell_type": "code",
   "execution_count": 19,
   "id": "b090d4c9-2fe9-4ac8-9682-d76a2be50aee",
   "metadata": {},
   "outputs": [
    {
     "data": {
      "text/plain": [
       "158"
      ]
     },
     "execution_count": 19,
     "metadata": {},
     "output_type": "execute_result"
    }
   ],
   "source": [
    "blue = image1[78,125,0] # the 3rd value is color tune\n",
    "blue"
   ]
  },
  {
   "cell_type": "code",
   "execution_count": 20,
   "id": "3bbfabc3-635c-4dcc-bc43-c08bbd9879df",
   "metadata": {},
   "outputs": [
    {
     "data": {
      "text/plain": [
       "169"
      ]
     },
     "execution_count": 20,
     "metadata": {},
     "output_type": "execute_result"
    }
   ],
   "source": [
    "green = image1[78,125,1]\n",
    "green"
   ]
  },
  {
   "cell_type": "code",
   "execution_count": 21,
   "id": "cde8012d-72b2-40f1-801e-1002ed382ce1",
   "metadata": {},
   "outputs": [
    {
     "data": {
      "text/plain": [
       "167"
      ]
     },
     "execution_count": 21,
     "metadata": {},
     "output_type": "execute_result"
    }
   ],
   "source": [
    "red = image1[78,125,2]\n",
    "red"
   ]
  },
  {
   "cell_type": "code",
   "execution_count": 22,
   "id": "7e709372-bca4-4f30-a5c0-af8f347e8c6a",
   "metadata": {},
   "outputs": [
    {
     "data": {
      "text/plain": [
       "array([158, 169, 167], dtype=uint8)"
      ]
     },
     "execution_count": 22,
     "metadata": {},
     "output_type": "execute_result"
    }
   ],
   "source": [
    "value = image1[78,125]\n",
    "value # the return value is 3 color value, order by BGR"
   ]
  },
  {
   "cell_type": "markdown",
   "id": "a4c04185-6ec6-4b44-bd05-512479d79bc0",
   "metadata": {},
   "source": [
    "## Change pixel"
   ]
  },
  {
   "cell_type": "code",
   "execution_count": 24,
   "id": "dbcc7dc3-0919-44cf-9a7d-4924ccafa9ab",
   "metadata": {},
   "outputs": [],
   "source": [
    "image[88,99] = 255\n",
    "cv2.imshow('image', image)\n",
    "cv2.waitKey(0)\n",
    "cv2.destroyAllWindows()"
   ]
  },
  {
   "cell_type": "code",
   "execution_count": null,
   "id": "711a99a2-8253-4f04-a478-22099ee0d3fd",
   "metadata": {},
   "outputs": [],
   "source": []
  }
 ],
 "metadata": {
  "kernelspec": {
   "display_name": "Python 3 (ipykernel)",
   "language": "python",
   "name": "python3"
  },
  "language_info": {
   "codemirror_mode": {
    "name": "ipython",
    "version": 3
   },
   "file_extension": ".py",
   "mimetype": "text/x-python",
   "name": "python",
   "nbconvert_exporter": "python",
   "pygments_lexer": "ipython3",
   "version": "3.11.4"
  }
 },
 "nbformat": 4,
 "nbformat_minor": 5
}
