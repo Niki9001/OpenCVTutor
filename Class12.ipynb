{
 "cells": [
  {
   "cell_type": "markdown",
   "id": "c6ff6b48-e0d5-40dc-bee4-deb80b6d781c",
   "metadata": {},
   "source": [
    "# Flip the image"
   ]
  },
  {
   "cell_type": "markdown",
   "id": "a1c864a4-1255-4282-b831-ca6b32d9a14b",
   "metadata": {},
   "source": [
    "## syntax"
   ]
  },
  {
   "cell_type": "markdown",
   "id": "4c9388ea-635d-4fcc-b8ce-b70373def4af",
   "metadata": {},
   "source": [
    "cv2.flip(src,flipCode)"
   ]
  },
  {
   "cell_type": "markdown",
   "id": "c4de27ca-4e33-4035-bf0f-2abd88c9d72e",
   "metadata": {},
   "source": [
    "flipCode = 0, flip by x axis"
   ]
  },
  {
   "cell_type": "markdown",
   "id": "f551ca5a-f740-4a68-b81b-397a7c279d78",
   "metadata": {},
   "source": [
    "flipCode = 1, or > 1, flip by y axis"
   ]
  },
  {
   "cell_type": "markdown",
   "id": "72bf0778-726a-4c36-bfc0-589981b1d314",
   "metadata": {},
   "source": [
    "flipCode = -1, or < 1, flip by x axis and y axis"
   ]
  },
  {
   "cell_type": "markdown",
   "id": "cc48e9ff-fd2a-4fdf-834e-6aca41218e35",
   "metadata": {},
   "source": [
    "# Get the image"
   ]
  },
  {
   "cell_type": "code",
   "execution_count": 1,
   "id": "b7b25d6f-0b9e-4d84-95f1-f5c07c2099a6",
   "metadata": {},
   "outputs": [],
   "source": [
    "import cv2\n",
    "path = \"I:\\\\openCV\\\\test.jpg\"\n",
    "# be careful of path and \\\\\n",
    "imageColor = cv2.imread(path)\n",
    "# check if the image load successfully or not \n",
    "if imageColor is None:\n",
    "    print(\"Fail to load\")\n",
    "else:\n",
    "    cv2.imshow('imageColor', imageColor)\n",
    "    cv2.waitKey(0)\n",
    "    cv2.destroyAllWindows()"
   ]
  },
  {
   "cell_type": "code",
   "execution_count": 3,
   "id": "05b3a198-52b5-4ff1-8e39-922de2f1f4f2",
   "metadata": {},
   "outputs": [],
   "source": [
    "flipBy0 = cv2.flip(imageColor,0)\n",
    "cv2.imshow('flipBy0', flipBy0)\n",
    "cv2.waitKey(0)\n",
    "cv2.destroyAllWindows()"
   ]
  },
  {
   "cell_type": "code",
   "execution_count": 8,
   "id": "e033d05b-2a22-47fc-89e0-2459cf64f101",
   "metadata": {},
   "outputs": [],
   "source": [
    "flipBy1 = cv2.flip(imageColor,1) # we can use any number above 0\n",
    "cv2.imshow('flipBy1', flipBy1)\n",
    "cv2.waitKey(0)\n",
    "cv2.destroyAllWindows()"
   ]
  },
  {
   "cell_type": "code",
   "execution_count": 9,
   "id": "96b4a259-1c80-4e7c-8950-9079b3cd42eb",
   "metadata": {},
   "outputs": [],
   "source": [
    "flipBy_1 = cv2.flip(imageColor,-1) # we can use any number less 0\n",
    "cv2.imshow('flipBy_1', flipBy_1)\n",
    "cv2.waitKey(0)\n",
    "cv2.destroyAllWindows()"
   ]
  },
  {
   "cell_type": "code",
   "execution_count": null,
   "id": "b8c3f9d5-f09c-4d87-9155-70e58f72cabd",
   "metadata": {},
   "outputs": [],
   "source": []
  }
 ],
 "metadata": {
  "kernelspec": {
   "display_name": "Python 3 (ipykernel)",
   "language": "python",
   "name": "python3"
  },
  "language_info": {
   "codemirror_mode": {
    "name": "ipython",
    "version": 3
   },
   "file_extension": ".py",
   "mimetype": "text/x-python",
   "name": "python",
   "nbconvert_exporter": "python",
   "pygments_lexer": "ipython3",
   "version": "3.11.4"
  }
 },
 "nbformat": 4,
 "nbformat_minor": 5
}
