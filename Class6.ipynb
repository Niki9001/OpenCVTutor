{
 "cells": [
  {
   "cell_type": "markdown",
   "id": "1c90753b-4aab-4223-a524-0faa669d51e6",
   "metadata": {},
   "source": [
    "# ROI of an image"
   ]
  },
  {
   "cell_type": "markdown",
   "id": "dd9d3471-4910-4bdd-9b9b-b607ca469358",
   "metadata": {},
   "source": [
    "## Grayscale"
   ]
  },
  {
   "cell_type": "markdown",
   "id": "493225ed-3952-485a-a713-5e794cee3d38",
   "metadata": {},
   "source": [
    "## 1. What is ROI"
   ]
  },
  {
   "cell_type": "markdown",
   "id": "c443718b-bb1a-4c78-8498-474f14b78f5a",
   "metadata": {},
   "source": [
    "ROI stands for \"Region of Interest\" in OpenCV and in the context of image processing. It refers to a specific part of an image that you want to focus on or analyze separately from the rest of the image. Selecting an ROI allows you to perform various operations, like processing, analysis, or manipulation, on just that region, rather than on the entire image."
   ]
  },
  {
   "cell_type": "markdown",
   "id": "5e2b0af9-0398-454e-b936-ef5d1fce21e4",
   "metadata": {},
   "source": [
    "## 2. Copy ROI"
   ]
  },
  {
   "cell_type": "code",
   "execution_count": 21,
   "id": "27bf0471-7f51-4180-84d9-efef8f883494",
   "metadata": {},
   "outputs": [],
   "source": [
    "import cv2\n",
    "path = \"I:\\\\openCV\\\\test.jpg\"\n",
    "# be careful of path and \\\\\n",
    "image = cv2.imread(path,flags=0)\n",
    "# check if the image load successfully or not \n",
    "if image is None:\n",
    "    print(\"Fail to load\")\n",
    "else:\n",
    "    cv2.imshow('image', image)\n",
    "    cv2.waitKey(0)\n",
    "    cv2.destroyAllWindows()"
   ]
  },
  {
   "cell_type": "markdown",
   "id": "f2daafa3-68c6-439b-ab56-73086bf97e47",
   "metadata": {},
   "source": [
    "### Use image[:,:] can get some area of an image"
   ]
  },
  {
   "cell_type": "code",
   "execution_count": 22,
   "id": "f4ccb63e-a36c-4a87-a9ff-9c01ac154e38",
   "metadata": {},
   "outputs": [],
   "source": [
    "roi = image[100:200,100:200]\n",
    "cv2.imshow('roi',roi)\n",
    "cv2.waitKey(0)\n",
    "cv2.destroyAllWindows()"
   ]
  },
  {
   "cell_type": "markdown",
   "id": "0ef27a59-c8fa-4420-ad36-39d2f131fcf7",
   "metadata": {},
   "source": [
    "The result image above is image[100:200,100:200]"
   ]
  },
  {
   "cell_type": "code",
   "execution_count": 23,
   "id": "649d5974-aa03-461c-a2fb-19fbabb39b7b",
   "metadata": {},
   "outputs": [],
   "source": [
    "cpy = image[150:250,150:250]\n",
    "# check how does cpy look like first\n",
    "cv2.imshow('cpy',cpy)\n",
    "cv2.waitKey(0)\n",
    "cv2.destroyAllWindows()"
   ]
  },
  {
   "cell_type": "code",
   "execution_count": 24,
   "id": "ec313591-ff0c-4188-85ee-cdab2a0aa322",
   "metadata": {},
   "outputs": [],
   "source": [
    "roi = cpy\n",
    "cv2.imshow('newROI',roi)\n",
    "cv2.waitKey(0)\n",
    "cv2.destroyAllWindows()"
   ]
  },
  {
   "cell_type": "markdown",
   "id": "436daba4-f56c-4697-a8ee-69ab1837ead5",
   "metadata": {},
   "source": [
    "### The cpy value is given to roi"
   ]
  },
  {
   "cell_type": "code",
   "execution_count": 13,
   "id": "85eb409e-7947-483a-8ac4-0a48daa2d850",
   "metadata": {},
   "outputs": [],
   "source": [
    "image[100:200,150:250] = roi\n",
    "cv2.imshow('newImage',image)\n",
    "cv2.waitKey(0)\n",
    "cv2.destroyAllWindows()"
   ]
  },
  {
   "cell_type": "markdown",
   "id": "794c6310-5447-4741-8aa1-eeba752ff4c2",
   "metadata": {},
   "source": [
    "### The picture above is changed some area"
   ]
  },
  {
   "cell_type": "markdown",
   "id": "20008759-ce75-448c-b6f1-eb7342a594a8",
   "metadata": {},
   "source": [
    "## 3. Copy ROI and paste to another image"
   ]
  },
  {
   "cell_type": "markdown",
   "id": "e70382fc-27ec-4de0-9a36-051c962ab58c",
   "metadata": {},
   "source": [
    "## Get the substitute iamge"
   ]
  },
  {
   "cell_type": "code",
   "execution_count": 19,
   "id": "82d99d5b-98fe-442f-b5a5-fcea2f86639f",
   "metadata": {},
   "outputs": [],
   "source": [
    "import cv2\n",
    "path = \"I:\\\\openCV\\\\retake.jpg\"\n",
    "# be careful of path and \\\\\n",
    "image1 = cv2.imread(path,flags=0)\n",
    "# check if the image load successfully or not \n",
    "if image1 is None:\n",
    "    print(\"Fail to load\")\n",
    "else:\n",
    "    cv2.imshow('image1', image1)\n",
    "    cv2.waitKey(0)\n",
    "    cv2.destroyAllWindows()"
   ]
  },
  {
   "cell_type": "code",
   "execution_count": 20,
   "id": "34d552de-ba1c-4523-ae46-064b2157d3a6",
   "metadata": {},
   "outputs": [],
   "source": [
    "image1[150:250,150:250] = roi\n",
    "cv2.imshow('image1', image1)\n",
    "cv2.waitKey(0)\n",
    "cv2.destroyAllWindows()"
   ]
  },
  {
   "cell_type": "markdown",
   "id": "03393788-d560-4243-b6da-07f09dc5b612",
   "metadata": {},
   "source": [
    "####  Finally the image1 area are token by roi"
   ]
  },
  {
   "cell_type": "markdown",
   "id": "21de8a6a-2294-4a10-8b14-febc378c057a",
   "metadata": {},
   "source": [
    "# BGR"
   ]
  },
  {
   "cell_type": "markdown",
   "id": "0fce7750-7006-4bc8-a89c-f509044c2cbb",
   "metadata": {},
   "source": [
    "### Replace all three color channels"
   ]
  },
  {
   "cell_type": "code",
   "execution_count": 27,
   "id": "39da6408-0c5c-4293-acf1-18d767d35b74",
   "metadata": {},
   "outputs": [],
   "source": [
    "import cv2\n",
    "path = \"I:\\\\openCV\\\\test.jpg\"\n",
    "# be careful of path and \\\\\n",
    "colorimage = cv2.imread(path)\n",
    "# check if the image load successfully or not \n",
    "if colorimage is None:\n",
    "    print(\"Fail to load\")\n",
    "else:\n",
    "    cv2.imshow('colorimage', colorimage)\n",
    "    cv2.waitKey(0)\n",
    "    cv2.destroyAllWindows()"
   ]
  },
  {
   "cell_type": "code",
   "execution_count": 26,
   "id": "0fb1ed6b-eb94-499f-8098-90ef871cb458",
   "metadata": {},
   "outputs": [],
   "source": [
    "path = \"I:\\\\openCV\\\\retake.jpg\"\n",
    "# be careful of path and \\\\\n",
    "colorimage1 = cv2.imread(path)\n",
    "# check if the image load successfully or not \n",
    "if colorimage1 is None:\n",
    "    print(\"Fail to load\")\n",
    "else:\n",
    "    cv2.imshow('colorimage1', colorimage1)\n",
    "    cv2.waitKey(0)\n",
    "    cv2.destroyAllWindows()"
   ]
  },
  {
   "cell_type": "code",
   "execution_count": 32,
   "id": "a2b37de7-79cd-410a-b8f7-a5fce43ed1a7",
   "metadata": {},
   "outputs": [],
   "source": [
    "a = colorimage[150:250,150:250]\n",
    "cv2.imshow('a', a)\n",
    "cv2.waitKey(0)\n",
    "cv2.destroyAllWindows()"
   ]
  },
  {
   "cell_type": "code",
   "execution_count": 33,
   "id": "e6f98f1f-9b21-4250-b2ac-79e467c3dea2",
   "metadata": {},
   "outputs": [],
   "source": [
    "colorimage1[150:250,150:250] = a\n",
    "cv2.imshow('ci1', colorimage1)\n",
    "cv2.waitKey(0)\n",
    "cv2.destroyAllWindows()"
   ]
  },
  {
   "cell_type": "markdown",
   "id": "6b46b8f4-ea6a-4ae9-bed9-ac8f242d04e7",
   "metadata": {},
   "source": [
    "### Replace only 2 color channels"
   ]
  },
  {
   "cell_type": "code",
   "execution_count": 42,
   "id": "2e86b149-0ba7-4e18-a8b6-3574d662c015",
   "metadata": {},
   "outputs": [],
   "source": [
    "r = colorimage[100:200,100:200,2] # the last digital, 0 means blue, 1 means green, 2 means red\n",
    "cv2.imshow('r', r)\n",
    "cv2.waitKey(0)\n",
    "cv2.destroyAllWindows()"
   ]
  },
  {
   "cell_type": "code",
   "execution_count": 46,
   "id": "a81fa995-d66b-4102-9542-066d2d39fc29",
   "metadata": {},
   "outputs": [],
   "source": [
    "colorimage1[200:300,200:300,2] = r\n",
    "cv2.imshow('ci1', colorimage1)\n",
    "cv2.waitKey(0)\n",
    "cv2.destroyAllWindows()"
   ]
  },
  {
   "cell_type": "markdown",
   "id": "c5c97561-6d25-43ca-8d6c-58d7a569289a",
   "metadata": {},
   "source": [
    "We can see that the image above some area looks not full of color, becuase we replaced them by r"
   ]
  },
  {
   "cell_type": "code",
   "execution_count": null,
   "id": "ce5008ca-e481-4b94-89b0-e98517f2444f",
   "metadata": {},
   "outputs": [],
   "source": []
  }
 ],
 "metadata": {
  "kernelspec": {
   "display_name": "Python 3 (ipykernel)",
   "language": "python",
   "name": "python3"
  },
  "language_info": {
   "codemirror_mode": {
    "name": "ipython",
    "version": 3
   },
   "file_extension": ".py",
   "mimetype": "text/x-python",
   "name": "python",
   "nbconvert_exporter": "python",
   "pygments_lexer": "ipython3",
   "version": "3.11.4"
  }
 },
 "nbformat": 4,
 "nbformat_minor": 5
}
