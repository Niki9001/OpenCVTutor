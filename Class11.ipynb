{
 "cells": [
  {
   "cell_type": "markdown",
   "id": "f5178978-a96e-45e3-b84a-c0eb723d2553",
   "metadata": {},
   "source": [
    "# Image resize"
   ]
  },
  {
   "cell_type": "markdown",
   "id": "cd55004f-e359-4f7d-86ef-8aa36a009d33",
   "metadata": {},
   "source": [
    "We use cv2.resize() to resize image"
   ]
  },
  {
   "cell_type": "markdown",
   "id": "c521691c-ed2c-4047-8007-0acc8065d399",
   "metadata": {},
   "source": [
    "cv2.resize(image source,dsize(new size row, new size column),fx(zoom by x), fy(zoom by y)) "
   ]
  },
  {
   "cell_type": "markdown",
   "id": "a32bb09c-36b7-4722-a420-69bba429254e",
   "metadata": {},
   "source": [
    "if we do not use dsize(), we can use fx, fy"
   ]
  },
  {
   "cell_type": "markdown",
   "id": "6f70052c-db9c-4d29-9a9d-3f59fb77cb26",
   "metadata": {},
   "source": [
    "## Get image"
   ]
  },
  {
   "cell_type": "code",
   "execution_count": 2,
   "id": "2cd158d1-da30-4a6b-a67d-3188f47cbfdd",
   "metadata": {},
   "outputs": [],
   "source": [
    "import cv2\n",
    "path = \"I:\\\\openCV\\\\test.jpg\"\n",
    "# be careful of path and \\\\\n",
    "imageColor = cv2.imread(path)\n",
    "# check if the image load successfully or not \n",
    "if imageColor is None:\n",
    "    print(\"Fail to load\")\n",
    "else:\n",
    "    cv2.imshow('imageColor', imageColor)\n",
    "    cv2.waitKey(0)\n",
    "    cv2.destroyAllWindows()"
   ]
  },
  {
   "cell_type": "markdown",
   "id": "06445e04-058b-4c86-9c21-24af6535a330",
   "metadata": {},
   "source": [
    "### Method 1, use fx and fy"
   ]
  },
  {
   "cell_type": "code",
   "execution_count": 3,
   "id": "cff4c130-1dd2-4fa9-b947-e75439836ccd",
   "metadata": {},
   "outputs": [],
   "source": [
    "newImage = cv2.resize(imageColor,None,fx=0.5,fy=0.7)\n",
    "cv2.imshow('newImage', newImage)\n",
    "cv2.waitKey(0)\n",
    "cv2.destroyAllWindows()"
   ]
  },
  {
   "cell_type": "markdown",
   "id": "b193479f-cea7-4caa-a156-c8ebddd1a591",
   "metadata": {},
   "source": [
    "We can see the result is zoomed"
   ]
  },
  {
   "cell_type": "markdown",
   "id": "f3100fa2-401c-4fad-9fce-c2d3e2d1c6ab",
   "metadata": {},
   "source": [
    "### Method 2, use dsize"
   ]
  },
  {
   "cell_type": "code",
   "execution_count": 5,
   "id": "0b188b9e-2e33-4531-8c4f-afe0e3de6801",
   "metadata": {},
   "outputs": [],
   "source": [
    "newImage2 = cv2.resize(imageColor,(200,100))\n",
    "cv2.imshow('newImage2', newImage2)\n",
    "cv2.waitKey(0)\n",
    "cv2.destroyAllWindows()"
   ]
  },
  {
   "cell_type": "markdown",
   "id": "f1eb2e40-2ba9-4c8d-a8ef-33e7ef55c656",
   "metadata": {},
   "source": [
    "We can see the result is getting smaller than before"
   ]
  },
  {
   "cell_type": "markdown",
   "id": "4eb20b44-186a-4b87-ac60-0cf8acffd80f",
   "metadata": {},
   "source": [
    "### Method 3, use proportion"
   ]
  },
  {
   "cell_type": "code",
   "execution_count": 12,
   "id": "1319bfa1-b694-4d17-a311-b17a4f455daa",
   "metadata": {},
   "outputs": [],
   "source": [
    "rows, cols = imageColor.shape[:2]"
   ]
  },
  {
   "cell_type": "markdown",
   "id": "04dc48e1-113f-4776-a2e5-9a7e36d15f6a",
   "metadata": {},
   "source": [
    "why do we need code above, because this is 3 channels image, there are 3 parameter, rows, columns and channels, [:2] means first two parameters"
   ]
  },
  {
   "cell_type": "code",
   "execution_count": 16,
   "id": "add6b0c8-bc07-4e2e-bd89-27e31a388e04",
   "metadata": {},
   "outputs": [],
   "source": [
    "newImage3 = cv2.resize(imageColor,(round(cols*0.5),round(rows*0.5)))\n",
    "# cols first, then rows\n",
    "cv2.imshow('newImage3', newImage3)\n",
    "cv2.waitKey(0)\n",
    "cv2.destroyAllWindows()"
   ]
  },
  {
   "cell_type": "markdown",
   "id": "0951113c-0958-402d-82cc-aea3b2d8565c",
   "metadata": {},
   "source": [
    "If we want to show image successfully, do not forget the round"
   ]
  },
  {
   "cell_type": "code",
   "execution_count": null,
   "id": "694506ca-be59-4f31-ac5c-823b82a6769f",
   "metadata": {},
   "outputs": [],
   "source": []
  }
 ],
 "metadata": {
  "kernelspec": {
   "display_name": "Python 3 (ipykernel)",
   "language": "python",
   "name": "python3"
  },
  "language_info": {
   "codemirror_mode": {
    "name": "ipython",
    "version": 3
   },
   "file_extension": ".py",
   "mimetype": "text/x-python",
   "name": "python",
   "nbconvert_exporter": "python",
   "pygments_lexer": "ipython3",
   "version": "3.11.4"
  }
 },
 "nbformat": 4,
 "nbformat_minor": 5
}
