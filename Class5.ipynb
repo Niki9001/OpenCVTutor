{
 "cells": [
  {
   "cell_type": "markdown",
   "id": "fda555a1-736c-4fca-87d8-e9e6cc88a6b7",
   "metadata": {},
   "source": [
    "# Get image attribute"
   ]
  },
  {
   "cell_type": "markdown",
   "id": "b831d395-370e-49f1-8904-0970856708a0",
   "metadata": {},
   "source": [
    "# 1. Shape"
   ]
  },
  {
   "cell_type": "markdown",
   "id": "0aae2b87-b0ed-4a10-b65a-600a39debf22",
   "metadata": {},
   "source": [
    "## Get Grayscale image"
   ]
  },
  {
   "cell_type": "code",
   "execution_count": 1,
   "id": "79a69080-cb63-45dc-abea-26da025305d4",
   "metadata": {},
   "outputs": [],
   "source": [
    "import cv2\n",
    "path = \"I:\\\\openCV\\\\test.jpg\"\n",
    "# be careful of path and \\\\\n",
    "image = cv2.imread(path,flags=0)\n",
    "# check if the image load successfully or not \n",
    "if image is None:\n",
    "    print(\"Fail to load\")\n",
    "else:\n",
    "    cv2.imshow('image', image)\n",
    "    cv2.waitKey(0)\n",
    "    cv2.destroyAllWindows()"
   ]
  },
  {
   "cell_type": "markdown",
   "id": "59cb8fde-4c6b-4aa2-9a12-361831185685",
   "metadata": {},
   "source": [
    "## Get the shape of a grayscale image"
   ]
  },
  {
   "cell_type": "markdown",
   "id": "f96c1560-47ff-4a3a-9ad1-cd8bfb466a0f",
   "metadata": {},
   "source": [
    "### We use image.shape (no parenthesis) to get how many rows and columns of pixels in a image"
   ]
  },
  {
   "cell_type": "code",
   "execution_count": 2,
   "id": "66298148-9fed-4f5a-abc2-e4e9f2db9404",
   "metadata": {},
   "outputs": [
    {
     "data": {
      "text/plain": [
       "(320, 640)"
      ]
     },
     "execution_count": 2,
     "metadata": {},
     "output_type": "execute_result"
    }
   ],
   "source": [
    "image.shape "
   ]
  },
  {
   "cell_type": "markdown",
   "id": "aff626bb-6a6a-4374-bb13-c762d9a9bb80",
   "metadata": {},
   "source": [
    "Because this is a grayscale image, in that case the return value only have two parameters."
   ]
  },
  {
   "cell_type": "markdown",
   "id": "6aca64cb-6a34-4102-96e9-1814731ecce4",
   "metadata": {},
   "source": [
    "## Get BGR image"
   ]
  },
  {
   "cell_type": "code",
   "execution_count": 3,
   "id": "d4f71c84-467e-47af-9f39-ac551f47122a",
   "metadata": {},
   "outputs": [],
   "source": [
    "import cv2\n",
    "path = \"I:\\\\openCV\\\\test.jpg\"\n",
    "# be careful of path and \\\\\n",
    "image1 = cv2.imread(path)\n",
    "# check if the image load successfully or not \n",
    "if image1 is None:\n",
    "    print(\"Fail to load\")\n",
    "else:\n",
    "    cv2.imshow('image1', image1)\n",
    "    cv2.waitKey(0)\n",
    "    cv2.destroyAllWindows()"
   ]
  },
  {
   "cell_type": "markdown",
   "id": "5505fed9-8fb6-47e9-9c12-61a436fabdcb",
   "metadata": {},
   "source": [
    "## Get the shape of a BGR image"
   ]
  },
  {
   "cell_type": "code",
   "execution_count": 4,
   "id": "d40923e2-87de-495c-9898-c70f17b22030",
   "metadata": {},
   "outputs": [
    {
     "data": {
      "text/plain": [
       "(320, 640, 3)"
      ]
     },
     "execution_count": 4,
     "metadata": {},
     "output_type": "execute_result"
    }
   ],
   "source": [
    "image1.shape"
   ]
  },
  {
   "cell_type": "markdown",
   "id": "4b27ae31-2fe9-4d2c-b83e-5c7eda49d4f4",
   "metadata": {},
   "source": [
    "Because this is a BGR image, in that case the return value have three parameters. The 3rd parameter is the number of color channel."
   ]
  },
  {
   "cell_type": "markdown",
   "id": "8b91878a-a9e9-44e3-8e2b-df5512b963b7",
   "metadata": {},
   "source": [
    "## 2. Number of pixels"
   ]
  },
  {
   "cell_type": "markdown",
   "id": "642e2f02-ddb5-4b3f-94a3-74cf121f92a9",
   "metadata": {},
   "source": [
    "### Grayscale size"
   ]
  },
  {
   "cell_type": "code",
   "execution_count": 5,
   "id": "aa97dc35-05a8-4a64-b745-7c115d12bda7",
   "metadata": {},
   "outputs": [
    {
     "data": {
      "text/plain": [
       "204800"
      ]
     },
     "execution_count": 5,
     "metadata": {},
     "output_type": "execute_result"
    }
   ],
   "source": [
    "image.size "
   ]
  },
  {
   "cell_type": "markdown",
   "id": "bede97d2-6c82-4686-89c7-482e189be784",
   "metadata": {},
   "source": [
    "### BGR size"
   ]
  },
  {
   "cell_type": "code",
   "execution_count": 6,
   "id": "b162c2d4-29c4-48a5-8fe2-94fb6dd2dbc7",
   "metadata": {},
   "outputs": [
    {
     "data": {
      "text/plain": [
       "614400"
      ]
     },
     "execution_count": 6,
     "metadata": {},
     "output_type": "execute_result"
    }
   ],
   "source": [
    "image1.size"
   ]
  },
  {
   "cell_type": "markdown",
   "id": "9abcb6d0-01aa-49d4-a233-e49063c4f2eb",
   "metadata": {},
   "source": [
    "We use image.size to get how many pixels in an image, the return value is the number of pixel points"
   ]
  },
  {
   "cell_type": "markdown",
   "id": "5aa8d502-861e-4497-a107-0dcebc43675a",
   "metadata": {},
   "source": [
    "The result comes from image.shape return value, for example, the grayscale's image.shape is (320, 640), so the image.size = 320*640 = 20480"
   ]
  },
  {
   "cell_type": "markdown",
   "id": "535db202-0880-455b-9c3e-2a00c3f803b0",
   "metadata": {},
   "source": [
    "The BGR's image1.shape is (320, 640, 3), so the image1.size = 320*640*3 = 61440"
   ]
  },
  {
   "cell_type": "markdown",
   "id": "be17e2f6-673c-4d6e-a165-90c2050c0b96",
   "metadata": {},
   "source": [
    "## 3. Get image type"
   ]
  },
  {
   "cell_type": "code",
   "execution_count": 8,
   "id": "f9d27926-8146-4ba1-939f-c7b7ccbd3a33",
   "metadata": {},
   "outputs": [
    {
     "data": {
      "text/plain": [
       "dtype('uint8')"
      ]
     },
     "execution_count": 8,
     "metadata": {},
     "output_type": "execute_result"
    }
   ],
   "source": [
    "image.dtype"
   ]
  },
  {
   "cell_type": "code",
   "execution_count": 9,
   "id": "e6f4d816-fb34-4ecc-9a49-d92246029751",
   "metadata": {},
   "outputs": [
    {
     "data": {
      "text/plain": [
       "dtype('uint8')"
      ]
     },
     "execution_count": 9,
     "metadata": {},
     "output_type": "execute_result"
    }
   ],
   "source": [
    "image1.dtype"
   ]
  },
  {
   "cell_type": "code",
   "execution_count": null,
   "id": "276e4fae-edd8-44e7-b6f4-3cae38719a23",
   "metadata": {},
   "outputs": [],
   "source": []
  }
 ],
 "metadata": {
  "kernelspec": {
   "display_name": "Python 3 (ipykernel)",
   "language": "python",
   "name": "python3"
  },
  "language_info": {
   "codemirror_mode": {
    "name": "ipython",
    "version": 3
   },
   "file_extension": ".py",
   "mimetype": "text/x-python",
   "name": "python",
   "nbconvert_exporter": "python",
   "pygments_lexer": "ipython3",
   "version": "3.11.4"
  }
 },
 "nbformat": 4,
 "nbformat_minor": 5
}
