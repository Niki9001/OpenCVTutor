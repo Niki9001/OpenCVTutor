{
 "cells": [
  {
   "cell_type": "markdown",
   "id": "36958cb5-16a6-4dfc-8b68-8f1bcc796707",
   "metadata": {},
   "source": [
    "# Image blending"
   ]
  },
  {
   "cell_type": "markdown",
   "id": "b764c577-3083-42f5-97b9-91e678ff8158",
   "metadata": {},
   "source": [
    "## What's the differenct between image adding and image blending?"
   ]
  },
  {
   "cell_type": "markdown",
   "id": "35b45b5c-4d8f-4495-a24d-91264ab631c4",
   "metadata": {},
   "source": [
    "Image adding and image blending are two different operations that can be performed on images, and they serve different purposes:\n",
    "\n",
    "Image Adding:\n",
    "\n",
    "This operation involves adding the pixel values of two images together.\n",
    "If you're working with 8-bit images (where pixel values range from 0 to 255), the values will be clipped at 255 if they exceed this value. That means if you add two images together and some pixel values are higher than 255, those pixels will simply become 255 in the resulting image.\n",
    "Image adding is often used when you want to increase the brightness of an image or when you want to superimpose a light pattern over an image.\n",
    "\n",
    "Image Blending:\n",
    "\n",
    "This is also referred to as alpha blending or weighted addition.\n",
    "It involves combining two images together with a specified weight factor for each image. This means you can control the transparency or translucency of each image in the blend.\n",
    "The general formula for blending two images is: G(x) = (1 - α) * F0(x) + α * F1(x) where α is the weight factor, F0(x) is the pixel value from the first image, F1(x) is the pixel value from the second image, and G(x) is the resulting pixel value.\n",
    "Image blending is used when you want to merge images in a way that keeps some visibility from each source image, like in creating a composite image or in watermarking.\n",
    "In summary, image adding is a simpler operation that can result in high values being clipped, while image blending allows for more control and can create a more visually pleasing combination of images with controlled transparency."
   ]
  },
  {
   "cell_type": "markdown",
   "id": "c677153a-5b3a-4993-a8e9-a5eab0355f2b",
   "metadata": {},
   "source": [
    "## Get the first blur image"
   ]
  },
  {
   "cell_type": "code",
   "execution_count": 3,
   "id": "31e5635f-2bc6-4f50-87fa-f55b08e657db",
   "metadata": {},
   "outputs": [],
   "source": [
    "import cv2\n",
    "path = \"I:\\openCV\\messedUp1.jpg\"\n",
    "# be careful of path and \\\\\n",
    "blur1 = cv2.imread(path)\n",
    "# check if the image load successfully or not \n",
    "if blur1 is None:\n",
    "    print(\"Fail to load\")\n",
    "else:\n",
    "    cv2.imshow('blur1', blur1)\n",
    "    cv2.waitKey(0)\n",
    "    cv2.destroyAllWindows()"
   ]
  },
  {
   "cell_type": "markdown",
   "id": "65f08b0d-eca8-4f68-a3bc-f9c5757cc506",
   "metadata": {},
   "source": [
    "## Get the second blur image"
   ]
  },
  {
   "cell_type": "code",
   "execution_count": 2,
   "id": "971d37d9-714f-4e46-bbe5-96f7d86dfe26",
   "metadata": {},
   "outputs": [],
   "source": [
    "import cv2\n",
    "path = \"I:\\openCV\\messedUp2.jpg\"\n",
    "# be careful of path and \\\\\n",
    "blur2 = cv2.imread(path)\n",
    "# check if the image load successfully or not \n",
    "if blur2 is None:\n",
    "    print(\"Fail to load\")\n",
    "else:\n",
    "    cv2.imshow('blur2', blur2)\n",
    "    cv2.waitKey(0)\n",
    "    cv2.destroyAllWindows()"
   ]
  },
  {
   "cell_type": "markdown",
   "id": "8a0e94ae-ba26-4ab8-b21c-eaa7e791e5c1",
   "metadata": {},
   "source": [
    "cv2.addWeighted(src1,alpha,src2,beta,gamma)"
   ]
  },
  {
   "cell_type": "markdown",
   "id": "78637d45-fcb1-4a1d-b83b-9467f44ccd6f",
   "metadata": {},
   "source": [
    "gamma is the brightness adjustment value"
   ]
  },
  {
   "cell_type": "markdown",
   "id": "480a7737-bf81-4a12-af9b-75dc36ad5ba2",
   "metadata": {},
   "source": [
    "The formula is (src1*alpha + src2*beta + gamma)"
   ]
  },
  {
   "cell_type": "markdown",
   "id": "4828aa0f-536f-40f9-9702-29ca9840c19a",
   "metadata": {},
   "source": [
    "Alpha and beta indicate how bright the picture is."
   ]
  },
  {
   "cell_type": "code",
   "execution_count": 5,
   "id": "dc341179-1e72-4e00-a630-5721b316e3dd",
   "metadata": {},
   "outputs": [],
   "source": [
    "result = cv2.addWeighted(blur1,0.3,blur2,0.7,0)\n",
    "cv2.imshow('result', result)\n",
    "cv2.waitKey(0)\n",
    "cv2.destroyAllWindows()"
   ]
  },
  {
   "cell_type": "markdown",
   "id": "4141abf0-234f-4ad7-934c-2bd2f84c478e",
   "metadata": {},
   "source": [
    "This is blending by weight"
   ]
  },
  {
   "cell_type": "code",
   "execution_count": null,
   "id": "6871a190-4e89-404d-ae57-db571fe8e1cc",
   "metadata": {},
   "outputs": [],
   "source": []
  }
 ],
 "metadata": {
  "kernelspec": {
   "display_name": "Python 3 (ipykernel)",
   "language": "python",
   "name": "python3"
  },
  "language_info": {
   "codemirror_mode": {
    "name": "ipython",
    "version": 3
   },
   "file_extension": ".py",
   "mimetype": "text/x-python",
   "name": "python",
   "nbconvert_exporter": "python",
   "pygments_lexer": "ipython3",
   "version": "3.11.4"
  }
 },
 "nbformat": 4,
 "nbformat_minor": 5
}
