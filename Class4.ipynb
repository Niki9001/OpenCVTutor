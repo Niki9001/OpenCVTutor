{
 "cells": [
  {
   "cell_type": "markdown",
   "id": "0cc7e8c8-6590-4c0f-bfd2-fed559d33608",
   "metadata": {},
   "source": [
    "## Using numpy to deal with the image"
   ]
  },
  {
   "cell_type": "markdown",
   "id": "aea58e20-754b-45b1-90cb-aee26f4b912b",
   "metadata": {},
   "source": [
    "### Read image first"
   ]
  },
  {
   "cell_type": "markdown",
   "id": "7b77363a-5f27-449c-8365-331927f17d6f",
   "metadata": {},
   "source": [
    "### Grayscale"
   ]
  },
  {
   "cell_type": "code",
   "execution_count": 27,
   "id": "f9229dd3-ee26-4766-bc75-8579507829a2",
   "metadata": {},
   "outputs": [],
   "source": [
    "import cv2\n",
    "import numpy as np ## This time we need import numpy\n",
    "path = \"I:\\\\openCV\\\\test.jpg\"\n",
    "# be careful of path and \\\\\n",
    "image = cv2.imread(path,flags=0)\n",
    "# check if the image load successfully or not \n",
    "if image is None:\n",
    "    print(\"Fail to load\")\n",
    "else:\n",
    "    cv2.imshow('image', image)\n",
    "    cv2.waitKey(0)\n",
    "    cv2.destroyAllWindows()"
   ]
  },
  {
   "cell_type": "code",
   "execution_count": 28,
   "id": "113bca18-3f23-4e5a-b9da-7b1de6afa014",
   "metadata": {},
   "outputs": [
    {
     "data": {
      "text/plain": [
       "172"
      ]
     },
     "execution_count": 28,
     "metadata": {},
     "output_type": "execute_result"
    }
   ],
   "source": [
    "p = image.item(88,152)\n",
    "p"
   ]
  },
  {
   "cell_type": "markdown",
   "id": "4a3dec42-0052-49d5-9659-acf5d6f57b90",
   "metadata": {},
   "source": [
    "#### Change the pixel"
   ]
  },
  {
   "cell_type": "code",
   "execution_count": 29,
   "id": "849c1dd0-2c85-4429-b8f8-cc9211c68735",
   "metadata": {},
   "outputs": [
    {
     "data": {
      "text/plain": [
       "255"
      ]
     },
     "execution_count": 29,
     "metadata": {},
     "output_type": "execute_result"
    }
   ],
   "source": [
    "image.itemset((88,152),255) # image.itemset(position, new value)\n",
    "# Check the value after changing\n",
    "image.item(88,152)"
   ]
  },
  {
   "cell_type": "markdown",
   "id": "9f348e5c-0927-4be9-903e-cf75e275a524",
   "metadata": {},
   "source": [
    "### BGR image"
   ]
  },
  {
   "cell_type": "code",
   "execution_count": 30,
   "id": "fc30750f-44e3-49e5-8211-81f851475d44",
   "metadata": {},
   "outputs": [],
   "source": [
    "import cv2\n",
    "path = \"I:\\\\openCV\\\\test.jpg\"\n",
    "# be careful of path and \\\\\n",
    "image1 = cv2.imread(path)\n",
    "# check if the image load successfully or not \n",
    "if image is None:\n",
    "    print(\"Fail to load\")\n",
    "else:\n",
    "    cv2.imshow('image1', image1)\n",
    "    cv2.waitKey(0)\n",
    "    cv2.destroyAllWindows()"
   ]
  },
  {
   "cell_type": "markdown",
   "id": "e82869f1-5016-4e93-a6ff-b3b006d2e778",
   "metadata": {},
   "source": [
    "Get the original value"
   ]
  },
  {
   "cell_type": "code",
   "execution_count": 32,
   "id": "db7ef3cb-1118-4acd-a6f0-86a6678f196a",
   "metadata": {},
   "outputs": [
    {
     "data": {
      "text/plain": [
       "158"
      ]
     },
     "execution_count": 32,
     "metadata": {},
     "output_type": "execute_result"
    }
   ],
   "source": [
    "image1.item(78,125,0) # first method"
   ]
  },
  {
   "cell_type": "markdown",
   "id": "fa74e21a-aa23-467e-b342-da8ac1c4a97c",
   "metadata": {},
   "source": [
    "#### get the value of each color 2nd method"
   ]
  },
  {
   "cell_type": "code",
   "execution_count": 8,
   "id": "c21648c4-75ad-444c-8186-2546196431c4",
   "metadata": {},
   "outputs": [],
   "source": [
    "blue = image1.item(78,125,0)\n",
    "green = image1.item(78,125,1)\n",
    "red = image1.item(78,125,2)"
   ]
  },
  {
   "cell_type": "code",
   "execution_count": 9,
   "id": "7d7980eb-e4d2-434f-8e8c-f135801d4841",
   "metadata": {},
   "outputs": [
    {
     "data": {
      "text/plain": [
       "158"
      ]
     },
     "execution_count": 9,
     "metadata": {},
     "output_type": "execute_result"
    }
   ],
   "source": [
    "blue"
   ]
  },
  {
   "cell_type": "code",
   "execution_count": 10,
   "id": "afdc687a-644c-48d9-b563-71a9dae972d5",
   "metadata": {},
   "outputs": [
    {
     "data": {
      "text/plain": [
       "169"
      ]
     },
     "execution_count": 10,
     "metadata": {},
     "output_type": "execute_result"
    }
   ],
   "source": [
    "green"
   ]
  },
  {
   "cell_type": "code",
   "execution_count": 11,
   "id": "91f5b5b2-e811-4e11-baa1-6b1e7756a3a1",
   "metadata": {},
   "outputs": [
    {
     "data": {
      "text/plain": [
       "167"
      ]
     },
     "execution_count": 11,
     "metadata": {},
     "output_type": "execute_result"
    }
   ],
   "source": [
    "red"
   ]
  },
  {
   "cell_type": "markdown",
   "id": "b6933d64-022e-423d-801d-8c99bef6b73a",
   "metadata": {},
   "source": [
    "#### Change pixel"
   ]
  },
  {
   "cell_type": "code",
   "execution_count": 20,
   "id": "a19f3148-7198-426a-95db-58548d179d48",
   "metadata": {},
   "outputs": [],
   "source": [
    "image1.itemset((88,99,0),255) # image.itemset(position, new value)"
   ]
  },
  {
   "cell_type": "code",
   "execution_count": 21,
   "id": "1d7fdfe5-5b6e-4c9d-a2c1-35c9b878266b",
   "metadata": {},
   "outputs": [],
   "source": [
    "image1.itemset((88,99,1),255) # image.itemset(position, new value)"
   ]
  },
  {
   "cell_type": "code",
   "execution_count": 22,
   "id": "fe90459b-b506-4671-866d-29bbf9a528a1",
   "metadata": {},
   "outputs": [],
   "source": [
    "image1.itemset((88,99,2),255) # image.itemset(position, new value)"
   ]
  },
  {
   "cell_type": "markdown",
   "id": "56988295-200e-4c81-923a-146486eb4347",
   "metadata": {},
   "source": [
    "Check the value after changing"
   ]
  },
  {
   "cell_type": "code",
   "execution_count": 24,
   "id": "c83f845a-26fc-410e-8dda-452a45aace90",
   "metadata": {},
   "outputs": [
    {
     "data": {
      "text/plain": [
       "255"
      ]
     },
     "execution_count": 24,
     "metadata": {},
     "output_type": "execute_result"
    }
   ],
   "source": [
    "image1.item(88,99,0)"
   ]
  },
  {
   "cell_type": "code",
   "execution_count": 25,
   "id": "9b9ccd3f-e51b-4c70-bbac-ff19ceaea738",
   "metadata": {},
   "outputs": [
    {
     "data": {
      "text/plain": [
       "255"
      ]
     },
     "execution_count": 25,
     "metadata": {},
     "output_type": "execute_result"
    }
   ],
   "source": [
    "image1.item(88,99,1)"
   ]
  },
  {
   "cell_type": "code",
   "execution_count": 26,
   "id": "ad5cc5df-4439-40c5-a312-afbfa134f741",
   "metadata": {},
   "outputs": [
    {
     "data": {
      "text/plain": [
       "255"
      ]
     },
     "execution_count": 26,
     "metadata": {},
     "output_type": "execute_result"
    }
   ],
   "source": [
    "image1.item(88,99,2)"
   ]
  },
  {
   "cell_type": "code",
   "execution_count": null,
   "id": "788a1ae8-7539-4251-91c7-58307e786a22",
   "metadata": {},
   "outputs": [],
   "source": []
  }
 ],
 "metadata": {
  "kernelspec": {
   "display_name": "Python 3 (ipykernel)",
   "language": "python",
   "name": "python3"
  },
  "language_info": {
   "codemirror_mode": {
    "name": "ipython",
    "version": 3
   },
   "file_extension": ".py",
   "mimetype": "text/x-python",
   "name": "python",
   "nbconvert_exporter": "python",
   "pygments_lexer": "ipython3",
   "version": "3.11.4"
  }
 },
 "nbformat": 4,
 "nbformat_minor": 5
}
