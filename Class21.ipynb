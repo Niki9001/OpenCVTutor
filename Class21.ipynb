{
 "cells": [
  {
   "cell_type": "markdown",
   "id": "a102270f",
   "metadata": {},
   "source": [
    "# Opening"
   ]
  },
  {
   "cell_type": "markdown",
   "id": "80cce6af",
   "metadata": {},
   "source": [
    "## What is Morphological Opening in OpenCV"
   ]
  },
  {
   "cell_type": "markdown",
   "id": "aa2ac9d2",
   "metadata": {},
   "source": [
    "Morphological Opening is an image processing technique that combines erosion and expansion operations. This operation first applies an erosion operation to the image, and then immediately follows with an expansion operation on the eroded image. Can be imagined as a small brush to subtract some of the edges of the image, so that the object looks smaller, and then use a slightly larger brush to paint along the edges of these objects, so that they return to close to the original size, but smoother and neater.\n",
    "\n",
    "The effect of open arithmetic is to remove small objects or noise (as erosion eliminates them) while leaving the basic shape of the larger objects intact. It is particularly useful for removing small noise points in an image and separating touching objects without significantly changing the size or shape of the object. Open arithmetic is able to smooth the contours of objects, disconnect narrow joints and eliminate small protrusions."
   ]
  },
  {
   "cell_type": "code",
   "execution_count": 1,
   "id": "2f0ad64c",
   "metadata": {},
   "outputs": [
    {
     "data": {
      "image/png": "[encoded data removed]",
      "text/plain": [
       "<IPython.core.display.Image object>"
      ]
     },
     "execution_count": 1,
     "metadata": {},
     "output_type": "execute_result"
    }
   ],
   "source": [
    "from IPython.display import Image\n",
    "Image(filename=\"H:\\openCV\\opening.png\")"
   ]
  },
  {
   "cell_type": "markdown",
   "id": "4b131fa5",
   "metadata": {},
   "source": [
    "The image above is proceed by morphological opening"
   ]
  },
  {
   "cell_type": "markdown",
   "id": "693c1d94",
   "metadata": {},
   "source": [
    "## Syntax"
   ]
  },
  {
   "cell_type": "markdown",
   "id": "4ba977b9",
   "metadata": {},
   "source": [
    "image = cv2.morphologyEx(source, cv2.MORPH_OPEN, kernel)"
   ]
  },
  {
   "cell_type": "markdown",
   "id": "c4bb3391",
   "metadata": {},
   "source": [
    "cv2.morphologyEx can do a lot of morphological processing"
   ]
  },
  {
   "cell_type": "markdown",
   "id": "75f0b72f",
   "metadata": {},
   "source": [
    "## Get the example iamge"
   ]
  },
  {
   "cell_type": "code",
   "execution_count": 2,
   "id": "e47fb827",
   "metadata": {},
   "outputs": [],
   "source": [
    "import cv2\n",
    "path = \"H:\\\\openCV\\\\openingExample.png\"\n",
    "# be careful of path and \\\\\n",
    "image = cv2.imread(path,flags=0)\n",
    "# check if the image load successfully or not \n",
    "if image is None:\n",
    "    print(\"Fail to load\")\n",
    "else:\n",
    "    cv2.imshow('image', image)\n",
    "    cv2.waitKey(0)\n",
    "    cv2.destroyAllWindows()"
   ]
  },
  {
   "cell_type": "code",
   "execution_count": 8,
   "id": "873812f9",
   "metadata": {},
   "outputs": [],
   "source": [
    "import numpy as np\n",
    "kernel = np.ones((5,5),np.uint8) \n",
    "openMor = cv2.morphologyEx(image,cv2.MORPH_OPEN,kernel)\n",
    "cv2.imshow('openMor', openMor)\n",
    "cv2.waitKey(0)\n",
    "cv2.destroyAllWindows()"
   ]
  },
  {
   "cell_type": "markdown",
   "id": "89e2ee8d",
   "metadata": {},
   "source": [
    "We can see after morphological opening, the result is as the same as the right side of the above image"
   ]
  },
  {
   "cell_type": "markdown",
   "id": "69aeb0e4",
   "metadata": {},
   "source": [
    "### The reason we add np.uint8 is because:\n",
    "Compatibility with image data types: Most image processing operations, especially in OpenCV, are based on 8-bit unsigned integers (uint8), since standard grayscale image pixel values range from 0 to 255. Using the same data type ensures compatibility and efficiency of operations.\n",
    "Reduce memory usage and improve performance: Using np.uint8 instead of the default float64 (NumPy creates arrays of float64 type if you don't specify a datatype) significantly reduces the memory footprint and improves computational efficiency, which is important when working with large images or performing real-time image processing.\n",
    "Avoid data type mismatch errors: OpenCV functions expect specific data types as input, and mismatched data types can lead to runtime errors or unintended behavior."
   ]
  },
  {
   "cell_type": "code",
   "execution_count": null,
   "id": "92d29156",
   "metadata": {},
   "outputs": [],
   "source": []
  }
 ],
 "metadata": {
  "kernelspec": {
   "display_name": "Python 3 (ipykernel)",
   "language": "python",
   "name": "python3"
  },
  "language_info": {
   "codemirror_mode": {
    "name": "ipython",
    "version": 3
   },
   "file_extension": ".py",
   "mimetype": "text/x-python",
   "name": "python",
   "nbconvert_exporter": "python",
   "pygments_lexer": "ipython3",
   "version": "3.10.6"
  }
 },
 "nbformat": 4,
 "nbformat_minor": 5
}
