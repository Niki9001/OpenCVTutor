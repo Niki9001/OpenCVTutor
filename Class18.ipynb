{
 "cells": [
  {
   "cell_type": "markdown",
   "id": "c8ca2bf3",
   "metadata": {},
   "source": [
    "# Median Filtering"
   ]
  },
  {
   "cell_type": "markdown",
   "id": "fa927442",
   "metadata": {},
   "source": [
    "## What is median filtering"
   ]
  },
  {
   "cell_type": "markdown",
   "id": "9baadbaf",
   "metadata": {},
   "source": [
    "Median filtering is a technique used to remove noise from images. Imagine you're looking at a photo and you notice some random speckles or dots that don't belong—these are noise. Median filtering works like a magic eraser that helps to clean up this noise.\n",
    "\n",
    "When you apply median filtering, what it does is look at each pixel in the image and then looks at the pixels that are its neighbors. It lines up all the neighbor pixels' values, finds the one that's in the middle (the median), and then replaces the original pixel's value with this median value. Because the median is less sensitive to extreme values (which are often noise), this method is very effective at preserving the important parts of the image, like edges, lines, and details, while getting rid of the random noise."
   ]
  },
  {
   "cell_type": "markdown",
   "id": "c83bd443",
   "metadata": {},
   "source": [
    "## syntax"
   ]
  },
  {
   "cell_type": "markdown",
   "id": "4e0017fd",
   "metadata": {},
   "source": [
    "image = cv2.medianBlur(source,core_size)"
   ]
  },
  {
   "cell_type": "markdown",
   "id": "3bda57bb",
   "metadata": {},
   "source": [
    "core_size should be an odd-number which bigger than 1"
   ]
  },
  {
   "cell_type": "markdown",
   "id": "c4cb1b35",
   "metadata": {},
   "source": [
    "## Get colorful image"
   ]
  },
  {
   "cell_type": "code",
   "execution_count": 2,
   "id": "0b1be30d",
   "metadata": {},
   "outputs": [],
   "source": [
    "import cv2\n",
    "path = \"H:\\\\openCV\\\\test.jpg\"\n",
    "# be careful of path and \\\\\n",
    "imageColor = cv2.imread(path)\n",
    "# check if the image load successfully or not \n",
    "if imageColor is None:\n",
    "    print(\"Fail to load\")\n",
    "else:\n",
    "    cv2.imshow('imageColor', imageColor)\n",
    "    cv2.waitKey(0)\n",
    "    cv2.destroyAllWindows()"
   ]
  },
  {
   "cell_type": "code",
   "execution_count": 3,
   "id": "1c667d87",
   "metadata": {},
   "outputs": [],
   "source": [
    "core3Median = cv2.medianBlur(imageColor,3)\n",
    "core15Median = cv2.medianBlur(imageColor,15)\n",
    "\n",
    "cv2.imshow('core3Median', core3Median)\n",
    "cv2.imshow('core15Median', core15Median)\n",
    "\n",
    "cv2.waitKey(0)\n",
    "cv2.destroyAllWindows()"
   ]
  },
  {
   "cell_type": "markdown",
   "id": "48776e22",
   "metadata": {},
   "source": [
    "Now we can see the differece between the core size"
   ]
  },
  {
   "cell_type": "code",
   "execution_count": null,
   "id": "fac4919d",
   "metadata": {},
   "outputs": [],
   "source": []
  }
 ],
 "metadata": {
  "kernelspec": {
   "display_name": "Python 3 (ipykernel)",
   "language": "python",
   "name": "python3"
  },
  "language_info": {
   "codemirror_mode": {
    "name": "ipython",
    "version": 3
   },
   "file_extension": ".py",
   "mimetype": "text/x-python",
   "name": "python",
   "nbconvert_exporter": "python",
   "pygments_lexer": "ipython3",
   "version": "3.10.6"
  }
 },
 "nbformat": 4,
 "nbformat_minor": 5
}
