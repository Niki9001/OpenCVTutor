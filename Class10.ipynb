{
 "cells": [
  {
   "cell_type": "markdown",
   "id": "89ee7458-4601-4f6b-8b78-8fd4b5e0f796",
   "metadata": {},
   "source": [
    "# Image type change"
   ]
  },
  {
   "cell_type": "markdown",
   "id": "de0a0a71-9481-4ddf-a46f-ba007149be74",
   "metadata": {},
   "source": [
    "## There are more than two hundred type changes, used by the official document."
   ]
  },
  {
   "cell_type": "markdown",
   "id": "12bb572f-a8bd-4c3a-89c7-7162a2958b31",
   "metadata": {},
   "source": [
    "## Colored to grayscale"
   ]
  },
  {
   "cell_type": "markdown",
   "id": "670fd580-1eda-4fcd-a5a8-1cc6d745f5c6",
   "metadata": {},
   "source": [
    "### Get the color image first"
   ]
  },
  {
   "cell_type": "code",
   "execution_count": 1,
   "id": "d3b93d06-e548-4fe9-9153-1c16c630a2dc",
   "metadata": {},
   "outputs": [],
   "source": [
    "import cv2\n",
    "path = \"I:\\\\openCV\\\\test.jpg\"\n",
    "# be careful of path and \\\\\n",
    "imageColor = cv2.imread(path)\n",
    "# check if the image load successfully or not \n",
    "if imageColor is None:\n",
    "    print(\"Fail to load\")\n",
    "else:\n",
    "    cv2.imshow('imageColor', imageColor)\n",
    "    cv2.waitKey(0)\n",
    "    cv2.destroyAllWindows()"
   ]
  },
  {
   "cell_type": "markdown",
   "id": "5c8c4765-0135-4f83-a0af-93885ecde4e2",
   "metadata": {},
   "source": [
    "### To Gray"
   ]
  },
  {
   "cell_type": "code",
   "execution_count": 2,
   "id": "e988db9a-d819-4081-a097-5b9c5a989f45",
   "metadata": {},
   "outputs": [],
   "source": [
    "toGray=cv2.cvtColor(imageColor,cv2.COLOR_BGR2GRAY)\n",
    "cv2.imshow('toGray', toGray)\n",
    "cv2.waitKey(0)\n",
    "cv2.destroyAllWindows()"
   ]
  },
  {
   "cell_type": "markdown",
   "id": "3db54e01-f627-4687-b38d-cb4fd3d07dd1",
   "metadata": {},
   "source": [
    "cv2.cvtColor(image resource,cv2.COLOR_BGR2GRAY) or we can use something else after cv2."
   ]
  },
  {
   "cell_type": "markdown",
   "id": "09489deb-1cbd-49db-b2ab-87884ed75a91",
   "metadata": {},
   "source": [
    "### To RGB"
   ]
  },
  {
   "cell_type": "code",
   "execution_count": 3,
   "id": "92679d40-2752-4db8-b114-f6d0c7f40111",
   "metadata": {},
   "outputs": [],
   "source": [
    "toRGB=cv2.cvtColor(imageColor,cv2.COLOR_BGR2RGB)\n",
    "cv2.imshow('toRGB', toRGB)\n",
    "cv2.waitKey(0)\n",
    "cv2.destroyAllWindows()"
   ]
  },
  {
   "cell_type": "markdown",
   "id": "6c9b6695-62ad-4d42-9cd4-b59063afc0a3",
   "metadata": {},
   "source": [
    "only changed the cv2.parameter"
   ]
  },
  {
   "cell_type": "markdown",
   "id": "c7f771ad-f13d-457a-bff7-78e15bb99c1b",
   "metadata": {},
   "source": [
    "### Get the gray image"
   ]
  },
  {
   "cell_type": "code",
   "execution_count": 4,
   "id": "c93c3b1e-3642-4782-a10e-d913b106d323",
   "metadata": {},
   "outputs": [],
   "source": [
    "import cv2\n",
    "path = \"I:\\\\openCV\\\\test.jpg\"\n",
    "# be careful of path and \\\\\n",
    "imageGray = cv2.imread(path,flags = 0)\n",
    "# check if the image load successfully or not \n",
    "if imageGray is None:\n",
    "    print(\"Fail to load\")\n",
    "else:\n",
    "    cv2.imshow('imageGray', imageGray)\n",
    "    cv2.waitKey(0)\n",
    "    cv2.destroyAllWindows()"
   ]
  },
  {
   "cell_type": "code",
   "execution_count": 6,
   "id": "3ba855ed-b58a-4537-b32c-696042cb7619",
   "metadata": {},
   "outputs": [],
   "source": [
    "toColor=cv2.cvtColor(imageGray,cv2.COLOR_GRAY2BGR)\n",
    "cv2.imshow('toColor', toColor)\n",
    "cv2.waitKey(0)\n",
    "cv2.destroyAllWindows()"
   ]
  },
  {
   "cell_type": "markdown",
   "id": "5a1b2928-bf89-4835-803c-c589e4b350ab",
   "metadata": {},
   "source": [
    "#### Although the result looks like gray, but there is 3 channels "
   ]
  },
  {
   "cell_type": "markdown",
   "id": "71056893-543c-4120-b71e-c8cead170c8e",
   "metadata": {},
   "source": [
    "So we can check it with np shape function"
   ]
  },
  {
   "cell_type": "code",
   "execution_count": 7,
   "id": "73c24aa4-d011-4202-93d6-891d37b44416",
   "metadata": {},
   "outputs": [
    {
     "name": "stdout",
     "output_type": "stream",
     "text": [
      "(320, 640)\n"
     ]
    }
   ],
   "source": [
    "print(imageGray.shape)"
   ]
  },
  {
   "cell_type": "code",
   "execution_count": 8,
   "id": "e7ce19f0-a3a6-4a27-b9cf-0533f76dd72d",
   "metadata": {},
   "outputs": [
    {
     "name": "stdout",
     "output_type": "stream",
     "text": [
      "(320, 640, 3)\n"
     ]
    }
   ],
   "source": [
    "print(toColor.shape)"
   ]
  },
  {
   "cell_type": "markdown",
   "id": "18324807-2400-4dbb-83b9-af80568f07b1",
   "metadata": {},
   "source": [
    "We can see that the toColor has 3 channels"
   ]
  },
  {
   "cell_type": "code",
   "execution_count": null,
   "id": "b9863d3c-8f6f-431b-adad-9eb8fa41ce89",
   "metadata": {},
   "outputs": [],
   "source": []
  }
 ],
 "metadata": {
  "kernelspec": {
   "display_name": "Python 3 (ipykernel)",
   "language": "python",
   "name": "python3"
  },
  "language_info": {
   "codemirror_mode": {
    "name": "ipython",
    "version": 3
   },
   "file_extension": ".py",
   "mimetype": "text/x-python",
   "name": "python",
   "nbconvert_exporter": "python",
   "pygments_lexer": "ipython3",
   "version": "3.11.4"
  }
 },
 "nbformat": 4,
 "nbformat_minor": 5
}
