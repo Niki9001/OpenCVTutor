{
 "cells": [
  {
   "cell_type": "markdown",
   "id": "a6afe129-0253-45ec-ac6b-b0e2a4e00b7a",
   "metadata": {},
   "source": [
    "## Read, check and changepixel"
   ]
  },
  {
   "cell_type": "markdown",
   "id": "1e1eee6d-bdde-4e86-9cb4-b04241a00af0",
   "metadata": {},
   "source": [
    "### Read image first"
   ]
  },
  {
   "cell_type": "code",
   "execution_count": 1,
   "id": "c931058d-2233-4f4d-88fc-c9cf4f19616a",
   "metadata": {},
   "outputs": [],
   "source": [
    "import cv2\n",
    "path = \"I:\\\\openCV\\\\test.jpg\"\n",
    "# be careful of path and \\\\\n",
    "image = cv2.imread(path,flags=0)\n",
    "# check if the image load successfully or not \n",
    "if image is None:\n",
    "    print(\"Fail to load\")\n",
    "else:\n",
    "    cv2.imshow('image', image)\n",
    "    cv2.waitKey(0)\n",
    "    cv2.destroyAllWindows()"
   ]
  },
  {
   "cell_type": "markdown",
   "id": "d3e57b15-9d7b-4497-b2b2-d988c2cc236b",
   "metadata": {},
   "source": [
    "### Check the grayscale value"
   ]
  },
  {
   "cell_type": "code",
   "execution_count": 21,
   "id": "6d5e21e8-4026-43aa-9638-bd0f0a5931ed",
   "metadata": {},
   "outputs": [
    {
     "data": {
      "text/plain": [
       "172"
      ]
     },
     "execution_count": 21,
     "metadata": {},
     "output_type": "execute_result"
    }
   ],
   "source": [
    "p = image[88,152] #88 row 152 column\n",
    "p"
   ]
  },
  {
   "cell_type": "markdown",
   "id": "81b31dac-9268-4d08-bec5-fdca3e6fceaf",
   "metadata": {},
   "source": [
    "Return value is 172. The grayscale usually start from 0 to 255, 0 means black, and 255 means white."
   ]
  },
  {
   "cell_type": "markdown",
   "id": "25835952-780e-49d4-baff-7a55e494079a",
   "metadata": {},
   "source": [
    "### Check BGR value.\n",
    "#### read image first"
   ]
  },
  {
   "cell_type": "code",
   "execution_count": 3,
   "id": "d161d284-38cb-4093-a4a0-e493592d7ea3",
   "metadata": {},
   "outputs": [],
   "source": [
    "image1 = cv2.imread(path) # no flag means BGR image\n",
    "# check if the image load successfully or not \n",
    "if image1 is None:\n",
    "    print(\"Fail to load\")\n",
    "else:\n",
    "    cv2.imshow('image', image1)\n",
    "    cv2.waitKey(0)\n",
    "    cv2.destroyAllWindows()"
   ]
  },
  {
   "cell_type": "code",
   "execution_count": 4,
   "id": "b090d4c9-2fe9-4ac8-9682-d76a2be50aee",
   "metadata": {},
   "outputs": [
    {
     "data": {
      "text/plain": [
       "158"
      ]
     },
     "execution_count": 4,
     "metadata": {},
     "output_type": "execute_result"
    }
   ],
   "source": [
    "blue = image1[78,125,0] # the 3rd value is color tune\n",
    "blue"
   ]
  },
  {
   "cell_type": "code",
   "execution_count": 8,
   "id": "3bbfabc3-635c-4dcc-bc43-c08bbd9879df",
   "metadata": {},
   "outputs": [
    {
     "data": {
      "text/plain": [
       "169"
      ]
     },
     "execution_count": 8,
     "metadata": {},
     "output_type": "execute_result"
    }
   ],
   "source": [
    "green = image1[78,125,1]\n",
    "green"
   ]
  },
  {
   "cell_type": "code",
   "execution_count": 9,
   "id": "cde8012d-72b2-40f1-801e-1002ed382ce1",
   "metadata": {},
   "outputs": [
    {
     "data": {
      "text/plain": [
       "167"
      ]
     },
     "execution_count": 9,
     "metadata": {},
     "output_type": "execute_result"
    }
   ],
   "source": [
    "red = image1[78,125,2]\n",
    "red"
   ]
  },
  {
   "cell_type": "code",
   "execution_count": 10,
   "id": "7e709372-bca4-4f30-a5c0-af8f347e8c6a",
   "metadata": {},
   "outputs": [
    {
     "data": {
      "text/plain": [
       "array([158, 169, 167], dtype=uint8)"
      ]
     },
     "execution_count": 10,
     "metadata": {},
     "output_type": "execute_result"
    }
   ],
   "source": [
    "value = image1[78,125]\n",
    "value # the return value is 3 color value, order by BGR"
   ]
  },
  {
   "cell_type": "markdown",
   "id": "a4c04185-6ec6-4b44-bd05-512479d79bc0",
   "metadata": {},
   "source": [
    "## Change pixel"
   ]
  },
  {
   "cell_type": "markdown",
   "id": "eb1e8a43-e099-4802-a4d1-348a16a47406",
   "metadata": {},
   "source": [
    "### Grayscale pixel change"
   ]
  },
  {
   "cell_type": "code",
   "execution_count": 15,
   "id": "dbcc7dc3-0919-44cf-9a7d-4924ccafa9ab",
   "metadata": {},
   "outputs": [],
   "source": [
    "image[88,99] = 255\n",
    "cv2.imshow('image', image)\n",
    "cv2.waitKey(0)\n",
    "cv2.destroyAllWindows()"
   ]
  },
  {
   "cell_type": "markdown",
   "id": "77b5cd6a-a33d-4dbc-baac-43a6962eb292",
   "metadata": {},
   "source": [
    "### BGR pixel change"
   ]
  },
  {
   "cell_type": "markdown",
   "id": "01fcdf9e-30f5-4bde-b2fe-b6c14ae15fee",
   "metadata": {},
   "source": [
    "#### change one by one"
   ]
  },
  {
   "cell_type": "code",
   "execution_count": 12,
   "id": "91daebaa-f1f9-4376-9c82-4bf4a391f60f",
   "metadata": {},
   "outputs": [],
   "source": [
    "image1[88,99,0]=255"
   ]
  },
  {
   "cell_type": "code",
   "execution_count": 13,
   "id": "2004dd18-6953-4f04-b625-288a6ef079e9",
   "metadata": {},
   "outputs": [],
   "source": [
    "image1[88,99,1]=255"
   ]
  },
  {
   "cell_type": "code",
   "execution_count": 14,
   "id": "54b5f5f6-c296-462a-aac5-b160fcab2f17",
   "metadata": {},
   "outputs": [],
   "source": [
    "image1[88,99,2]=255"
   ]
  },
  {
   "cell_type": "markdown",
   "id": "e2aa0404-57be-41a2-8f9a-b544246d07d2",
   "metadata": {},
   "source": [
    "#### or change at the same time"
   ]
  },
  {
   "cell_type": "code",
   "execution_count": 17,
   "id": "c034a3bf-bf46-4a85-af85-0958bd9694b3",
   "metadata": {},
   "outputs": [],
   "source": [
    "image1[88,100]=[255,255,255]\n",
    "cv2.imshow('image', image1)\n",
    "cv2.waitKey(0)\n",
    "cv2.destroyAllWindows()"
   ]
  },
  {
   "cell_type": "markdown",
   "id": "c905f8cd-4515-4448-9fa0-ea0c65b67de8",
   "metadata": {},
   "source": [
    "#### Try to print the value of [88,100],[88,99]"
   ]
  },
  {
   "cell_type": "code",
   "execution_count": 18,
   "id": "31709952-fba7-4dda-aa61-26a72a90bf36",
   "metadata": {},
   "outputs": [
    {
     "data": {
      "text/plain": [
       "array([255, 255, 255], dtype=uint8)"
      ]
     },
     "execution_count": 18,
     "metadata": {},
     "output_type": "execute_result"
    }
   ],
   "source": [
    "image1[88,100]"
   ]
  },
  {
   "cell_type": "code",
   "execution_count": 19,
   "id": "de35934a-f519-43bb-b339-db88a1b43a10",
   "metadata": {},
   "outputs": [
    {
     "data": {
      "text/plain": [
       "array([255, 255, 255], dtype=uint8)"
      ]
     },
     "execution_count": 19,
     "metadata": {},
     "output_type": "execute_result"
    }
   ],
   "source": [
    "image1[88,99]"
   ]
  },
  {
   "cell_type": "markdown",
   "id": "79fcf0a2-a271-4f07-b8dd-0a66d7889ed1",
   "metadata": {},
   "source": [
    "#### We can also change area by using list slice"
   ]
  },
  {
   "cell_type": "code",
   "execution_count": 20,
   "id": "69c386c5-d907-4cc5-8fd8-3fbee3e70ca4",
   "metadata": {},
   "outputs": [],
   "source": [
    "image1[100:150,100:150]=[255,255,255]\n",
    "cv2.imshow('sliced', image1)\n",
    "cv2.waitKey(0)\n",
    "cv2.destroyAllWindows()"
   ]
  },
  {
   "cell_type": "markdown",
   "id": "2b39df47-991a-44b8-9b10-614a507298c6",
   "metadata": {},
   "source": [
    "We can see a white area in the image, that is the area we changed"
   ]
  },
  {
   "cell_type": "code",
   "execution_count": null,
   "id": "34e97634-31c9-4f19-9cf5-7de5f44bd4af",
   "metadata": {},
   "outputs": [],
   "source": []
  }
 ],
 "metadata": {
  "kernelspec": {
   "display_name": "Python 3 (ipykernel)",
   "language": "python",
   "name": "python3"
  },
  "language_info": {
   "codemirror_mode": {
    "name": "ipython",
    "version": 3
   },
   "file_extension": ".py",
   "mimetype": "text/x-python",
   "name": "python",
   "nbconvert_exporter": "python",
   "pygments_lexer": "ipython3",
   "version": "3.11.4"
  }
 },
 "nbformat": 4,
 "nbformat_minor": 5
}
