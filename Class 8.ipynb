{
 "cells": [
  {
   "cell_type": "markdown",
   "id": "aacd4d8c-4233-4628-bbef-7f4073e93d98",
   "metadata": {},
   "source": [
    "# Adding"
   ]
  },
  {
   "cell_type": "markdown",
   "id": "7819597d-6a2c-440f-b20e-29fcaa7262db",
   "metadata": {},
   "source": [
    "## NumPy and cv2.add()"
   ]
  },
  {
   "cell_type": "markdown",
   "id": "50d22f31-eb5e-4405-90af-a291237b6e29",
   "metadata": {},
   "source": [
    "image1 + image2 = result"
   ]
  },
  {
   "cell_type": "markdown",
   "id": "de48bbe3-6cfc-48cb-b8d3-f4c19e92a720",
   "metadata": {},
   "source": [
    "if the result <= 255: Direct addition"
   ]
  },
  {
   "cell_type": "markdown",
   "id": "9cb51aad-39bd-4633-ba0c-47cc47ffcb07",
   "metadata": {},
   "source": [
    "if the result > 255: Modulo after adding 255"
   ]
  },
  {
   "cell_type": "markdown",
   "id": "b86c38bf-dc36-4af8-86f0-af9af18d9081",
   "metadata": {},
   "source": [
    "Example 255+58 = (255+58)%255 = 58"
   ]
  },
  {
   "cell_type": "markdown",
   "id": "3cdf063a-d69e-4613-9b33-d8698c5d09e1",
   "metadata": {},
   "source": [
    "## Get the colorful image"
   ]
  },
  {
   "cell_type": "code",
   "execution_count": 1,
   "id": "1b1264af-899d-4072-a4eb-0016c84238fc",
   "metadata": {},
   "outputs": [],
   "source": [
    "import cv2\n",
    "path = \"I:\\\\openCV\\\\test.jpg\"\n",
    "# be careful of path and \\\\\n",
    "imageColor = cv2.imread(path)\n",
    "# check if the image load successfully or not \n",
    "if imageColor is None:\n",
    "    print(\"Fail to load\")\n",
    "else:\n",
    "    cv2.imshow('imageColor', imageColor)\n",
    "    cv2.waitKey(0)\n",
    "    cv2.destroyAllWindows()"
   ]
  },
  {
   "cell_type": "code",
   "execution_count": 2,
   "id": "382492de-6f7d-405a-b853-7353f2122347",
   "metadata": {},
   "outputs": [],
   "source": [
    "imageColorCopy = imageColor"
   ]
  },
  {
   "cell_type": "code",
   "execution_count": 5,
   "id": "154553e2-60f0-4296-b066-71ccff3b7e3c",
   "metadata": {},
   "outputs": [],
   "source": [
    "npAdding = imageColorCopy + imageColor\n",
    "cvAdding = cv2.add(imageColorCopy, imageColor)\n",
    "cv2.imshow('original',imageColor)\n",
    "cv2.imshow('npAdding',npAdding)\n",
    "cv2.imshow('cvAdding',cvAdding)\n",
    "cv2.waitKey(0)\n",
    "cv2.destroyAllWindows()"
   ]
  },
  {
   "cell_type": "markdown",
   "id": "0e48b731-4826-4482-8ffd-0fa5b66e0fd7",
   "metadata": {},
   "source": [
    "#### We can see there is difference between the results"
   ]
  },
  {
   "cell_type": "markdown",
   "id": "ba97e451-3ad8-4850-8cbf-4787bcea8b55",
   "metadata": {},
   "source": [
    "In that case we can know that, if we want to use adding, the two ways will have different result"
   ]
  },
  {
   "cell_type": "markdown",
   "id": "eb6878f2-e775-4b94-90dc-d38ae58dc839",
   "metadata": {},
   "source": [
    "We can also use it on grayscales"
   ]
  },
  {
   "cell_type": "markdown",
   "id": "6edb81e7-220f-4d8f-a5a2-0d0a521f96b8",
   "metadata": {},
   "source": [
    "Try it yourself and see what you can get"
   ]
  },
  {
   "cell_type": "code",
   "execution_count": null,
   "id": "e983c350-df96-4f1f-970a-b82c2d3708d1",
   "metadata": {},
   "outputs": [],
   "source": []
  }
 ],
 "metadata": {
  "kernelspec": {
   "display_name": "Python 3 (ipykernel)",
   "language": "python",
   "name": "python3"
  },
  "language_info": {
   "codemirror_mode": {
    "name": "ipython",
    "version": 3
   },
   "file_extension": ".py",
   "mimetype": "text/x-python",
   "name": "python",
   "nbconvert_exporter": "python",
   "pygments_lexer": "ipython3",
   "version": "3.11.4"
  }
 },
 "nbformat": 4,
 "nbformat_minor": 5
}
