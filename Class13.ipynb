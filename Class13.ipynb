{
 "cells": [
  {
   "cell_type": "markdown",
   "id": "1b551936-e77e-4bfb-b3d5-50ff4ce0e4ed",
   "metadata": {},
   "source": [
    "# Intro to Thresholding"
   ]
  },
  {
   "cell_type": "markdown",
   "id": "31204847-9204-47f7-9431-dd7746e6ca4a",
   "metadata": {},
   "source": [
    "![alt text](thresholding.png \"title\")"
   ]
  },
  {
   "cell_type": "markdown",
   "id": "f81ee6a9-847c-48d3-9c12-b690dc9849eb",
   "metadata": {},
   "source": [
    "This image is from OpenCV Official"
   ]
  },
  {
   "cell_type": "markdown",
   "id": "65fe9a08-8a07-47d7-bb00-2926b1c54ad4",
   "metadata": {},
   "source": [
    "The first part of this image is the original image"
   ]
  },
  {
   "cell_type": "markdown",
   "id": "1b395d25-39e7-4ffc-af95-b0b57e10e46a",
   "metadata": {},
   "source": [
    "## Threshold Binary"
   ]
  },
  {
   "cell_type": "markdown",
   "id": "8b63cff9-8b7c-4e59-99cd-08e95cc1d44b",
   "metadata": {},
   "source": [
    "Example"
   ]
  },
  {
   "cell_type": "markdown",
   "id": "87753557-33cc-40b2-b093-e2042b1b1ed4",
   "metadata": {},
   "source": [
    "Binary thresholding\n",
    "\n",
    "dst(x,y) = { maxVal  if src(x,y) > thresh\n"
   ]
  },
  {
   "cell_type": "markdown",
   "id": "19ab1dfa-2870-4e6a-916a-287693552163",
   "metadata": {},
   "source": [
    "             0       otherwise }"
   ]
  },
  {
   "cell_type": "markdown",
   "id": "2cdc66f6-5f53-4b70-819e-53cbaa88cec7",
   "metadata": {},
   "source": [
    "Threshold value = 127"
   ]
  },
  {
   "cell_type": "markdown",
   "id": "a7e4c475-faf0-4b17-89fd-78feb1d40481",
   "metadata": {},
   "source": [
    "In the context of image processing, \"binary thresholding\" is a technique where we convert a grayscale image to a black and white image. Here's how it works:\n",
    "\n",
    "We start with a grayscale image where each pixel has a value between 0 (black) and 255 (white).\n",
    "We pick a threshold value, in this case, 127. This value is our cut-off point.\n",
    "For each pixel in the image, we check its value (src(x,y)).\n",
    "If the pixel's value is greater than our threshold (127), we change that pixel's value to 'maxVal', which is usually the maximum possible value (255, or white).\n",
    "If the pixel's value is less than or equal to the threshold, we change the pixel's value to 0 (black).\n",
    "The result is a 'dst' image that is a simpler, binary version of our original image, with only black and white pixels.\n",
    "This technique is useful for separating out areas of interest in an image and is often used as a step in more complex image processing tasks."
   ]
  },
  {
   "cell_type": "markdown",
   "id": "4c10d7c5-2a4b-44a7-bb4a-d74edf315ccf",
   "metadata": {},
   "source": [
    "## Inverted threshold binary"
   ]
  },
  {
   "cell_type": "markdown",
   "id": "7fca5889-c0f8-41f5-901d-b3453a9f6f8e",
   "metadata": {},
   "source": [
    "Inverted threshold binary is another type of thresholding technique in image processing, but it works in the opposite way to the regular binary thresholding.\n",
    "\n",
    "Here's the explanation:\n",
    "\n",
    "Just like with binary thresholding, we begin with a grayscale image where each pixel's value ranges from 0 (black) to 255 (white).\n",
    "We choose a threshold value again, let's say 127 for consistency.\n",
    "For each pixel, we compare its value with the threshold.\n",
    "If the pixel's value is greater than the threshold, instead of setting it to the maximum value (white), we set it to 0 (black). This is the \"inverted\" part – it's the opposite of what we do in regular binary thresholding.\n",
    "If the pixel's value is less than or equal to the threshold, we set it to the maximum value (white), again the opposite of the binary thresholding.\n",
    "The resulting image will have white pixels where the original image was dark (below or equal to the threshold) and black pixels where the original image was light (above the threshold).\n",
    "\n",
    "In simpler terms, inverted threshold binary flips the colors of the output image from the standard binary thresholding method. Dark areas become light, and light areas become dark. This method can be helpful when the features of interest are darker than the background, and you want them to stand out as white in the processed image."
   ]
  },
  {
   "cell_type": "markdown",
   "id": "f211cb28-7d7f-4662-8e6d-78e9b992f1c8",
   "metadata": {},
   "source": [
    "## Truncate"
   ]
  },
  {
   "cell_type": "markdown",
   "id": "fda67d37-08eb-4429-b2b3-72484336bae8",
   "metadata": {},
   "source": [
    "In image processing, \"truncate\" refers to a specific type of thresholding. Here's the explanation:\n",
    "\n",
    "Start with a grayscale image where each pixel can have a value from 0 (black) to 255 (white).\n",
    "Choose a threshold value, say 127.\n",
    "For each pixel, compare its value to the threshold value.\n",
    "If a pixel's value is greater than the threshold, instead of setting it to a maximum value like in binary thresholding, you \"truncate\" it, which means you set it to the threshold value itself. In our example, any pixel value above 127 would be set to exactly 127.\n",
    "If a pixel's value is less than or equal to the threshold, it remains unchanged.\n",
    "\n",
    "The result is an image where all the lighter parts (above the threshold) are flattened to a single brightness level (the threshold value), while the darker parts are left as they are. This method is used when you want to cap the bright values in an image without altering the dark areas, which can be helpful in various image processing scenarios where maintaining the darker details is important."
   ]
  },
  {
   "cell_type": "markdown",
   "id": "d945070d-b4d1-4e5b-89e1-2035c7c1511d",
   "metadata": {},
   "source": [
    "## Threshold to Zero, Inverted"
   ]
  },
  {
   "cell_type": "markdown",
   "id": "04bc5a11-7dcf-4eb3-bbb1-b8f0783da8bd",
   "metadata": {},
   "source": [
    "The term \"Threshold to Zero, Inverted\" in image processing describes a thresholding method with the following the explanation:\n",
    "\n",
    "You start with a grayscale image where each pixel value ranges from 0 (black) to 255 (white).\n",
    "You then select a threshold value, for example, 127.\n",
    "Here’s what you do with each pixel's value (let’s call it \"pixelValue\"):\n",
    "If pixelValue is greater than the threshold, you set it to zero. That’s the \"to Zero\" part.\n",
    "If pixelValue is less than or equal to the threshold, you leave it unchanged.\n",
    "The \"Inverted\" part of the term means this method is the opposite of \"Threshold to Zero\" where you would set pixelValue to zero if it's less than or equal to the threshold and leave it unchanged if it's greater.\n",
    "\n",
    "So, the \"Threshold to Zero, Inverted\" method keeps the darker parts of the image (those below or equal to the threshold) and turns the lighter parts (those above the threshold) to black. This can be particularly useful when you want to eliminate lighter parts of an image while preserving the details of the darker regions."
   ]
  },
  {
   "cell_type": "markdown",
   "id": "6a697717-a30a-46a6-b93e-af4e0afa544f",
   "metadata": {},
   "source": [
    "## Threshold to Zero"
   ]
  },
  {
   "cell_type": "markdown",
   "id": "6f60dc0d-7c1c-47d0-91bd-8b308519e58f",
   "metadata": {},
   "source": [
    "Threshold to Zero is a thresholding method used in image processing. Here's a plain language explanation:\n",
    "\n",
    "1.Begin with a grayscale image where pixels have values ranging from 0 (black) to 255 (white).\n",
    "Choose a threshold value, for instance, 127.\n",
    "2.Examine the value of each pixel in the image:\n",
    "*If the pixel's value is greater than the threshold (in this case, greater than 127), the pixel's value is kept as it is.\n",
    "*If the pixel's value is less than or equal to the threshold (127 or less), then the pixel's value is set to zero, effectively turning it black.\n",
    "\n",
    "The result of this method is an image where all the lighter parts (above the threshold) are preserved, and all the darker parts (at or below the threshold) are turned to black. This can be used when you want to focus on brighter elements in the image and remove the darker areas, which might not be of interest."
   ]
  },
  {
   "cell_type": "code",
   "execution_count": null,
   "id": "2020ad55-98a3-42f2-a572-925b7c20eeb0",
   "metadata": {},
   "outputs": [],
   "source": []
  }
 ],
 "metadata": {
  "kernelspec": {
   "display_name": "Python 3 (ipykernel)",
   "language": "python",
   "name": "python3"
  },
  "language_info": {
   "codemirror_mode": {
    "name": "ipython",
    "version": 3
   },
   "file_extension": ".py",
   "mimetype": "text/x-python",
   "name": "python",
   "nbconvert_exporter": "python",
   "pygments_lexer": "ipython3",
   "version": "3.11.4"
  }
 },
 "nbformat": 4,
 "nbformat_minor": 5
}
