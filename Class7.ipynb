{
 "cells": [
  {
   "cell_type": "markdown",
   "id": "33a11efb-f824-4f1f-ac3b-4b7568475b54",
   "metadata": {},
   "source": [
    "# Seperate channels and merge channels"
   ]
  },
  {
   "cell_type": "markdown",
   "id": "1e84add5-632a-4f84-8583-a3cd27be1dad",
   "metadata": {},
   "source": [
    "## Get grayscale image"
   ]
  },
  {
   "cell_type": "code",
   "execution_count": 1,
   "id": "b47adc3c-da12-4514-a9d0-93b645334967",
   "metadata": {},
   "outputs": [],
   "source": [
    "import cv2\n",
    "path = \"I:\\\\openCV\\\\test.jpg\"\n",
    "# be careful of path and \\\\\n",
    "image = cv2.imread(path,flags=0)\n",
    "# check if the image load successfully or not \n",
    "if image is None:\n",
    "    print(\"Fail to load\")\n",
    "else:\n",
    "    cv2.imshow('image', image)\n",
    "    cv2.waitKey(0)\n",
    "    cv2.destroyAllWindows()"
   ]
  },
  {
   "cell_type": "markdown",
   "id": "ee93cd50-d2d7-4671-8f3c-a0047737eb8d",
   "metadata": {},
   "source": [
    "## Get colorful image"
   ]
  },
  {
   "cell_type": "code",
   "execution_count": 2,
   "id": "753fb126-6cb8-48f1-a362-375cdd7c6cb3",
   "metadata": {},
   "outputs": [],
   "source": [
    "import cv2\n",
    "path = \"I:\\\\openCV\\\\test.jpg\"\n",
    "# be careful of path and \\\\\n",
    "imageColor = cv2.imread(path)\n",
    "# check if the image load successfully or not \n",
    "if imageColor is None:\n",
    "    print(\"Fail to load\")\n",
    "else:\n",
    "    cv2.imshow('imageColor', imageColor)\n",
    "    cv2.waitKey(0)\n",
    "    cv2.destroyAllWindows()"
   ]
  },
  {
   "cell_type": "markdown",
   "id": "128e3313-a9f3-46ac-bcf1-b5d500938403",
   "metadata": {},
   "source": [
    "## Split"
   ]
  },
  {
   "cell_type": "markdown",
   "id": "8b289248-8f8a-49b6-84d1-5551d219bddb",
   "metadata": {},
   "source": [
    "### Split all three channels and show"
   ]
  },
  {
   "cell_type": "code",
   "execution_count": 4,
   "id": "9fede8f2-edf2-4646-bf5f-6b4174c0507b",
   "metadata": {},
   "outputs": [],
   "source": [
    "b,g,r = cv2.split(imageColor)\n",
    "cv2.imshow('B',b)\n",
    "cv2.imshow('G',g)\n",
    "cv2.imshow('R',r)\n",
    "cv2.waitKey()\n",
    "cv2.destroyAllWindows()"
   ]
  },
  {
   "cell_type": "markdown",
   "id": "7eb81bde-a29c-4daa-967a-2c35b5710fc4",
   "metadata": {},
   "source": [
    "### Or we can use index"
   ]
  },
  {
   "cell_type": "code",
   "execution_count": 7,
   "id": "20d578e8-eb6b-4b4c-8436-60544a22a5f0",
   "metadata": {},
   "outputs": [],
   "source": [
    "b1 = cv2.split(imageColor)[0]\n",
    "g1 = cv2.split(imageColor)[1]\n",
    "r1 = cv2.split(imageColor)[2]\n",
    "cv2.imshow('B1',b1)\n",
    "cv2.imshow('G1',g1)\n",
    "cv2.imshow('R1',r1)\n",
    "cv2.waitKey()\n",
    "cv2.destroyAllWindows()"
   ]
  },
  {
   "cell_type": "markdown",
   "id": "fff51e7c-7401-4983-9a3d-5908222c1e4b",
   "metadata": {},
   "source": [
    "## Merge"
   ]
  },
  {
   "cell_type": "markdown",
   "id": "c33ca355-23a3-4919-901c-2bdcef217e5c",
   "metadata": {},
   "source": [
    "### Becareful of the order of bgr"
   ]
  },
  {
   "cell_type": "code",
   "execution_count": 8,
   "id": "034eceb3-849f-4302-9b2c-3356b3d9554e",
   "metadata": {},
   "outputs": [],
   "source": [
    "merged = cv2.merge([b,g,r]) # b,g,r are which we splited before \n",
    "cv2.imshow('merged',merged)\n",
    "cv2.waitKey()\n",
    "cv2.destroyAllWindows()"
   ]
  },
  {
   "cell_type": "markdown",
   "id": "eb26f622-5411-4140-894d-ae5e5ad00796",
   "metadata": {},
   "source": [
    "### Otherwise you will get a different color image"
   ]
  },
  {
   "cell_type": "code",
   "execution_count": 9,
   "id": "7cccf185-2f93-4ed2-8d96-8efdfbd37625",
   "metadata": {},
   "outputs": [],
   "source": [
    "mergedD = cv2.merge([r,b,g]) # r g b order \n",
    "cv2.imshow('mergedD',mergedD)\n",
    "cv2.waitKey()\n",
    "cv2.destroyAllWindows()"
   ]
  },
  {
   "cell_type": "markdown",
   "id": "b0629096-acb2-4728-aee5-7d02b1244ccf",
   "metadata": {},
   "source": [
    "### Merge with 0 0 channels"
   ]
  },
  {
   "cell_type": "code",
   "execution_count": 10,
   "id": "41d1aff7-a43d-4a08-a077-bdf4d564cbed",
   "metadata": {},
   "outputs": [],
   "source": [
    "import numpy as np"
   ]
  },
  {
   "cell_type": "markdown",
   "id": "398766af-df1c-447d-bd75-1f9fa7e551fa",
   "metadata": {},
   "source": [
    "Why do we need numpy? Because we need to fill the other channels of this image with 0"
   ]
  },
  {
   "cell_type": "markdown",
   "id": "60e0354e-21ab-42ac-b1a0-03b8269406db",
   "metadata": {},
   "source": [
    "So far we dont know how much pixes are there so, use shape in numpy to get it"
   ]
  },
  {
   "cell_type": "code",
   "execution_count": 11,
   "id": "b143926b-b771-4c78-a424-f795ed0b889c",
   "metadata": {},
   "outputs": [],
   "source": [
    "rows,cols,chns = imageColor.shape"
   ]
  },
  {
   "cell_type": "code",
   "execution_count": 12,
   "id": "0789aaf4-98de-4f30-aba5-f4e27d3ee692",
   "metadata": {},
   "outputs": [
    {
     "data": {
      "text/plain": [
       "(320, 640, 3)"
      ]
     },
     "execution_count": 12,
     "metadata": {},
     "output_type": "execute_result"
    }
   ],
   "source": [
    "rows,cols,chns"
   ]
  },
  {
   "cell_type": "markdown",
   "id": "168ac3b8-a09b-46b9-b0d7-d75c00cc04d6",
   "metadata": {},
   "source": [
    "rows, cols are making for creating the same size 0 matrix as the r channel"
   ]
  },
  {
   "cell_type": "code",
   "execution_count": 16,
   "id": "83c57351-5699-4a64-8f58-9fdbb898e4ea",
   "metadata": {},
   "outputs": [],
   "source": [
    "b2 = np.zeros((rows,cols),dtype=imageColor.dtype) "
   ]
  },
  {
   "cell_type": "code",
   "execution_count": 17,
   "id": "0e7b3863-8eb0-42da-ade3-2cb5b60e54b9",
   "metadata": {},
   "outputs": [],
   "source": [
    "g2 = np.zeros((rows,cols),dtype=imageColor.dtype)"
   ]
  },
  {
   "cell_type": "code",
   "execution_count": 18,
   "id": "82e2f58e-9de3-4069-aa6f-8d693d196621",
   "metadata": {},
   "outputs": [],
   "source": [
    "r2 = r "
   ]
  },
  {
   "cell_type": "code",
   "execution_count": 19,
   "id": "9b47e278-151b-4377-abb1-681beb8a9fbb",
   "metadata": {},
   "outputs": [],
   "source": [
    "mergedWithZeros = cv2.merge([b2,g2,r2])"
   ]
  },
  {
   "cell_type": "code",
   "execution_count": 20,
   "id": "2df2c96e-3ea7-4037-865a-172b171d4ec0",
   "metadata": {},
   "outputs": [],
   "source": [
    "cv2.imshow('mergedWithZeros',mergedWithZeros)\n",
    "cv2.waitKey()\n",
    "cv2.destroyAllWindows()"
   ]
  },
  {
   "cell_type": "markdown",
   "id": "36f634ef-02d4-410c-94ef-88481314cf0b",
   "metadata": {},
   "source": [
    "#### Or we can use slice"
   ]
  },
  {
   "cell_type": "code",
   "execution_count": 21,
   "id": "cba52839-2d5c-42ac-bf62-8696921fe66c",
   "metadata": {},
   "outputs": [],
   "source": [
    "r3 = cv2.split(imageColor)[2]"
   ]
  },
  {
   "cell_type": "code",
   "execution_count": 22,
   "id": "dde946d1-d057-451f-9890-f282e11c1186",
   "metadata": {},
   "outputs": [],
   "source": [
    "g3 = np.zeros((rows,cols),dtype=imageColor.dtype)"
   ]
  },
  {
   "cell_type": "code",
   "execution_count": 23,
   "id": "928b256d-2d14-4546-aa39-c97593e9b3f6",
   "metadata": {},
   "outputs": [],
   "source": [
    "b3 = np.zeros((rows,cols),dtype=imageColor.dtype)"
   ]
  },
  {
   "cell_type": "code",
   "execution_count": 24,
   "id": "a6b742d8-7c8f-4d07-8958-cce338c09fef",
   "metadata": {},
   "outputs": [],
   "source": [
    "mergedWithZerosAndSlice = cv2.merge([b3,g3,r3])\n",
    "cv2.imshow('mergedWithZeros',mergedWithZeros)\n",
    "cv2.waitKey()\n",
    "cv2.destroyAllWindows()"
   ]
  },
  {
   "cell_type": "code",
   "execution_count": null,
   "id": "f16d14bf-70fb-4204-bafe-004da79dd1dc",
   "metadata": {},
   "outputs": [],
   "source": []
  }
 ],
 "metadata": {
  "kernelspec": {
   "display_name": "Python 3 (ipykernel)",
   "language": "python",
   "name": "python3"
  },
  "language_info": {
   "codemirror_mode": {
    "name": "ipython",
    "version": 3
   },
   "file_extension": ".py",
   "mimetype": "text/x-python",
   "name": "python",
   "nbconvert_exporter": "python",
   "pygments_lexer": "ipython3",
   "version": "3.11.4"
  }
 },
 "nbformat": 4,
 "nbformat_minor": 5
}
