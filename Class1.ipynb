{
 "cells": [
  {
   "cell_type": "markdown",
   "id": "25d0a506-97d7-4874-8770-6aa0a718fcd7",
   "metadata": {},
   "source": [
    "# 1-read, show and save image"
   ]
  },
  {
   "cell_type": "markdown",
   "id": "c0257a93-ee4b-4bab-bc3a-269750499455",
   "metadata": {},
   "source": [
    "## import opencv"
   ]
  },
  {
   "cell_type": "code",
   "execution_count": 1,
   "id": "9f755da9-869c-45e4-a444-7a51783a935e",
   "metadata": {},
   "outputs": [],
   "source": [
    "import cv2 # not opencv"
   ]
  },
  {
   "cell_type": "markdown",
   "id": "42561dc5-915f-4816-b4c0-11f4e5b6c146",
   "metadata": {},
   "source": [
    "## read image"
   ]
  },
  {
   "cell_type": "code",
   "execution_count": 2,
   "id": "796f08a9-72b2-46b0-9551-c71f2e43d4f5",
   "metadata": {},
   "outputs": [],
   "source": [
    "path = \"I:\\\\openCV\\\\test.jpg\"\n",
    "# be careful of path and \\\\\n",
    "image = cv2.imread(path,flags=0) # we can add flags into the (), it's optional"
   ]
  },
  {
   "cell_type": "markdown",
   "id": "2959b4f7-ac9a-482f-9cb3-b32082e0b693",
   "metadata": {},
   "source": [
    "## show image"
   ]
  },
  {
   "cell_type": "code",
   "execution_count": 3,
   "id": "fea988fa-87e9-4b26-a717-e30078ae538e",
   "metadata": {},
   "outputs": [],
   "source": [
    "# check if the image load successfully or not \n",
    "if image is None:\n",
    "    print(\"Fail to load\")\n",
    "else:\n",
    "    cv2.imshow('image', image)\n",
    "    cv2.waitKey(0)\n",
    "    cv2.destroyAllWindows()"
   ]
  },
  {
   "cell_type": "markdown",
   "id": "abea8f1e-4367-4d50-ae8f-b2d1a5920910",
   "metadata": {},
   "source": [
    "##### 1. we need waitkey, otherwise it will disappear immediately\n",
    "##### 2. parameters of waitkey [delay > 0] means how many millisecond you want to wait. \n",
    "#####      [delay = 0] means wait for keyboard input\n",
    "#####      [delay < 0] infinite waiting\n",
    "##### 3. waitkey should following the imshow, otherwise in IDE it will not work"
   ]
  },
  {
   "cell_type": "markdown",
   "id": "363eb33f-06fc-4173-9f3d-ef5bd260ade6",
   "metadata": {},
   "source": [
    "## Close the window from RAM"
   ]
  },
  {
   "cell_type": "markdown",
   "id": "8d62a314-0182-4d64-85cc-57c6599a06d5",
   "metadata": {},
   "source": [
    "##### we use cv2.destroyAllWindows()"
   ]
  },
  {
   "cell_type": "markdown",
   "id": "26a5d4e2-e6b2-4d56-93f5-b4b820495e8f",
   "metadata": {},
   "source": [
    "## Save image"
   ]
  },
  {
   "cell_type": "code",
   "execution_count": 4,
   "id": "1a886e3e-7363-4601-9ad6-35682131f115",
   "metadata": {},
   "outputs": [
    {
     "data": {
      "text/plain": [
       "True"
      ]
     },
     "execution_count": 4,
     "metadata": {},
     "output_type": "execute_result"
    }
   ],
   "source": [
    "pathNfileName = 'I:\\\\openCV\\\\output.jpg'\n",
    "cv2.imwrite(pathNfileName,image)"
   ]
  },
  {
   "cell_type": "markdown",
   "id": "bcb1313d-c01b-4e12-a3e8-bf19dba8267f",
   "metadata": {},
   "source": [
    "# Practice"
   ]
  },
  {
   "cell_type": "markdown",
   "id": "6a793cfc-44db-4e1b-ae50-dbaa4547021c",
   "metadata": {},
   "source": [
    "#### Use opencv read a image and show it, at the end save it to another place"
   ]
  },
  {
   "cell_type": "code",
   "execution_count": null,
   "id": "79b54af7-9ab8-4736-9dec-b86c4b5375fd",
   "metadata": {},
   "outputs": [],
   "source": []
  }
 ],
 "metadata": {
  "kernelspec": {
   "display_name": "Python 3 (ipykernel)",
   "language": "python",
   "name": "python3"
  },
  "language_info": {
   "codemirror_mode": {
    "name": "ipython",
    "version": 3
   },
   "file_extension": ".py",
   "mimetype": "text/x-python",
   "name": "python",
   "nbconvert_exporter": "python",
   "pygments_lexer": "ipython3",
   "version": "3.11.4"
  }
 },
 "nbformat": 4,
 "nbformat_minor": 5
}
