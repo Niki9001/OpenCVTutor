{
 "cells": [
  {
   "cell_type": "markdown",
   "id": "81ca810a-166b-478e-962e-284e29cab4fa",
   "metadata": {},
   "source": [
    "# Threshold in using"
   ]
  },
  {
   "cell_type": "markdown",
   "id": "c7cb31c2-a8e0-4e09-ae49-72100b7778f7",
   "metadata": {},
   "source": [
    "## Syntax"
   ]
  },
  {
   "cell_type": "markdown",
   "id": "72cb9e2f-5fd1-4e74-8b8b-677469590442",
   "metadata": {},
   "source": [
    "### retval, dst = cv2.threshold(src,thresh,maxval,type)"
   ]
  },
  {
   "cell_type": "markdown",
   "id": "11fed43a-8f09-41de-aac5-c93358c26e20",
   "metadata": {},
   "source": [
    "retval is return value"
   ]
  },
  {
   "cell_type": "markdown",
   "id": "7e37e796-0838-461d-b26e-a7e584268cad",
   "metadata": {},
   "source": [
    "dst means destination image"
   ]
  },
  {
   "cell_type": "markdown",
   "id": "97184d62-3f23-476a-92c2-41b733439d7f",
   "metadata": {},
   "source": [
    "## Get colorful image"
   ]
  },
  {
   "cell_type": "code",
   "execution_count": 1,
   "id": "a9aa4e0e-6b11-46d1-b1ee-82134cb6ddf4",
   "metadata": {},
   "outputs": [],
   "source": [
    "import cv2\n",
    "path = \"I:\\\\openCV\\\\test.jpg\"\n",
    "# be careful of path and \\\\\n",
    "imageColor = cv2.imread(path)\n",
    "# check if the image load successfully or not \n",
    "if imageColor is None:\n",
    "    print(\"Fail to load\")\n",
    "else:\n",
    "    cv2.imshow('imageColor', imageColor)\n",
    "    cv2.waitKey(0)\n",
    "    cv2.destroyAllWindows()"
   ]
  },
  {
   "cell_type": "markdown",
   "id": "28990a4b-e766-48ff-b83e-f6f28cae7075",
   "metadata": {},
   "source": [
    "## Threhold binary"
   ]
  },
  {
   "cell_type": "code",
   "execution_count": 10,
   "id": "2350b494-add1-4ae3-9b70-08568d9d7eb9",
   "metadata": {},
   "outputs": [],
   "source": [
    "retvalTB, dstTB = cv2.threshold(imageColor,127,255,cv2.THRESH_BINARY)\n",
    "cv2.imshow('dstTB', dstTB)\n",
    "cv2.waitKey(0)\n",
    "cv2.destroyAllWindows()"
   ]
  },
  {
   "cell_type": "markdown",
   "id": "1b4716ef-f33f-4e4b-9183-f0861dedc753",
   "metadata": {},
   "source": [
    "## Inverted threshold binary"
   ]
  },
  {
   "cell_type": "code",
   "execution_count": 9,
   "id": "4442bd86-a705-488a-840f-ad745faff53a",
   "metadata": {},
   "outputs": [],
   "source": [
    "retvalTBI, dstTBI = cv2.threshold(imageColor,127,255,cv2.THRESH_BINARY_INV)\n",
    "cv2.imshow('dstTBI', dstTBI)\n",
    "cv2.waitKey(0)\n",
    "cv2.destroyAllWindows()"
   ]
  },
  {
   "cell_type": "markdown",
   "id": "b6291e8c-b88a-4016-b355-ec7b056d98f7",
   "metadata": {},
   "source": [
    "## Truncate"
   ]
  },
  {
   "cell_type": "code",
   "execution_count": 11,
   "id": "c423671a-c958-4493-ba6e-ea3bc1b6e1e2",
   "metadata": {},
   "outputs": [],
   "source": [
    "retvalTCT, dstTCT = cv2.threshold(imageColor,127,255,cv2.THRESH_TRUNC)\n",
    "cv2.imshow('dstTCT', dstTCT)\n",
    "cv2.waitKey(0)\n",
    "cv2.destroyAllWindows()"
   ]
  },
  {
   "cell_type": "markdown",
   "id": "bc3a3532-e08e-4a20-91fc-44e1d4c1d0cd",
   "metadata": {},
   "source": [
    "## Threshold to Zero, Inverted"
   ]
  },
  {
   "cell_type": "code",
   "execution_count": 12,
   "id": "33c5381b-db1a-4ed2-9aa8-663bf6c9e433",
   "metadata": {},
   "outputs": [],
   "source": [
    "retvalTZI, dstTZI = cv2.threshold(imageColor,127,255,cv2.THRESH_TOZERO_INV)\n",
    "cv2.imshow('dstTZI', dstTZI)\n",
    "cv2.waitKey(0)\n",
    "cv2.destroyAllWindows()"
   ]
  },
  {
   "cell_type": "markdown",
   "id": "5327ded0-148b-4e71-a8e8-94a746753c99",
   "metadata": {},
   "source": [
    "## Threshold to Zero"
   ]
  },
  {
   "cell_type": "code",
   "execution_count": 13,
   "id": "42276c2f-d33f-4ed2-b44e-05cf115d24cb",
   "metadata": {},
   "outputs": [],
   "source": [
    "retvalTZ, dstTZ = cv2.threshold(imageColor,127,255,cv2.THRESH_TOZERO)\n",
    "cv2.imshow('dstTZ', dstTZ)\n",
    "cv2.waitKey(0)\n",
    "cv2.destroyAllWindows()"
   ]
  },
  {
   "cell_type": "code",
   "execution_count": null,
   "id": "232d87c6-906e-40e1-a40e-9b2a229a2128",
   "metadata": {},
   "outputs": [],
   "source": []
  }
 ],
 "metadata": {
  "kernelspec": {
   "display_name": "Python 3 (ipykernel)",
   "language": "python",
   "name": "python3"
  },
  "language_info": {
   "codemirror_mode": {
    "name": "ipython",
    "version": 3
   },
   "file_extension": ".py",
   "mimetype": "text/x-python",
   "name": "python",
   "nbconvert_exporter": "python",
   "pygments_lexer": "ipython3",
   "version": "3.11.4"
  }
 },
 "nbformat": 4,
 "nbformat_minor": 5
}
