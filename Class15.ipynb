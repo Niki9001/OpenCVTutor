{
 "cells": [
  {
   "cell_type": "markdown",
   "id": "633ff792-baca-48a7-b5e3-88109cb5f049",
   "metadata": {},
   "source": [
    "# Average Filtering"
   ]
  },
  {
   "cell_type": "markdown",
   "id": "0d43bbf9-5e84-486f-b2c6-e5cded98cd82",
   "metadata": {},
   "source": [
    "## What is average filtering"
   ]
  },
  {
   "cell_type": "markdown",
   "id": "3d856f11-d470-43c2-b64a-bbfc22d241ca",
   "metadata": {},
   "source": [
    "Mean filtering is a basic image processing technique used to reduce noise in images and make them smoother. The core idea behind this method is to calculate the average value of the neighboring pixels around each pixel in the image and replace the original pixel value with this average. This approach effectively reduces high-frequency noise (like random speckles) in the image, as the average of neighboring pixels tends to cancel out the impact of these noises.\n",
    "\n",
    "Mean filtering is often used in the preprocessing stage of image processing to improve image quality or as a preliminary step for more complex image processing techniques. For example, applying mean filtering to reduce image noise before performing edge detection, image segmentation, or image recognition can enhance the effectiveness of these processes. However, it's important to note that mean filtering can also blur the edges in an image, as it smooths out details while reducing noise."
   ]
  },
  {
   "cell_type": "markdown",
   "id": "ad8012db-83dc-41df-9fb1-f85a25efedf6",
   "metadata": {},
   "source": [
    "## syntax"
   ]
  },
  {
   "cell_type": "markdown",
   "id": "a32d24d9-fb5c-4768-8c32-b5a92a159d30",
   "metadata": {},
   "source": [
    "Result = cv2.blur(original_image,core_size)"
   ]
  },
  {
   "cell_type": "markdown",
   "id": "6ab07152-4237-423c-8dae-33d6db4db44d",
   "metadata": {},
   "source": [
    "core size: displayed by (weight,height) turple"
   ]
  },
  {
   "cell_type": "markdown",
   "id": "9df91de1",
   "metadata": {},
   "source": [
    "## Get colorful image"
   ]
  },
  {
   "cell_type": "code",
   "execution_count": 1,
   "id": "6cced5b5-241d-4d07-aa5a-ddcfad15e7d7",
   "metadata": {},
   "outputs": [],
   "source": [
    "import cv2\n",
    "path = \"H:\\\\openCV\\\\test.jpg\"\n",
    "# be careful of path and \\\\\n",
    "imageColor = cv2.imread(path)\n",
    "# check if the image load successfully or not \n",
    "if imageColor is None:\n",
    "    print(\"Fail to load\")\n",
    "else:\n",
    "    cv2.imshow('imageColor', imageColor)\n",
    "    cv2.waitKey(0)\n",
    "    cv2.destroyAllWindows()"
   ]
  },
  {
   "cell_type": "code",
   "execution_count": 6,
   "id": "03a6035f",
   "metadata": {},
   "outputs": [],
   "source": [
    "blur_by_core_size2 = cv2.blur(imageColor,(2,2))\n",
    "blur_by_core_size5 = cv2.blur(imageColor,(5,5))\n",
    "cv2.imshow('original', imageColor)\n",
    "cv2.imshow('blur_by_core_size2',blur_by_core_size1)\n",
    "cv2.imshow('blur_by_core_size5',blur_by_core_size5)\n",
    "cv2.waitKey(0)\n",
    "cv2.destroyAllWindows()"
   ]
  },
  {
   "cell_type": "markdown",
   "id": "6c237b05",
   "metadata": {},
   "source": [
    "With the results of the above code run we can see that the size of the core will determine the blurring (smoothing) of the image"
   ]
  },
  {
   "cell_type": "code",
   "execution_count": null,
   "id": "15086fba",
   "metadata": {},
   "outputs": [],
   "source": []
  }
 ],
 "metadata": {
  "kernelspec": {
   "display_name": "Python 3 (ipykernel)",
   "language": "python",
   "name": "python3"
  },
  "language_info": {
   "codemirror_mode": {
    "name": "ipython",
    "version": 3
   },
   "file_extension": ".py",
   "mimetype": "text/x-python",
   "name": "python",
   "nbconvert_exporter": "python",
   "pygments_lexer": "ipython3",
   "version": "3.10.6"
  }
 },
 "nbformat": 4,
 "nbformat_minor": 5
}
