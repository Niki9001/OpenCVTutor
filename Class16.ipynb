{
 "cells": [
  {
   "cell_type": "markdown",
   "id": "dfc48d75",
   "metadata": {},
   "source": [
    "# Box filter or box blur"
   ]
  },
  {
   "cell_type": "markdown",
   "id": "ad2d2bea",
   "metadata": {},
   "source": [
    "## What is box filter or box blur"
   ]
  },
  {
   "cell_type": "markdown",
   "id": "61cd707f",
   "metadata": {},
   "source": [
    "Box filtering, also known as box blur, is a simple image processing technique where each pixel in the output image has a value equal to the average value of its neighborhood pixels in the input image. Imagine each pixel's value being replaced by the average of all the pixel values in a square (box) surrounding it.\n",
    "\n",
    "The size of the box determines how much the image is blurred: a larger box results in a more blurred image because the average is taken over more pixels. This process can remove noise or detail from an image, making it look smoother.\n",
    "\n",
    "In the context of the cv2.boxFilter function from the OpenCV library, the function applies this box filtering technique to an image. You provide the original image, specify how deep the color information should be in the output image (destination depth), and set the size of the box (kernel size). The normalize flag indicates whether to normalize the box's values, meaning each value in the box adds up to one, ensuring the average doesn't change the image brightness too much."
   ]
  },
  {
   "cell_type": "markdown",
   "id": "469aaf09",
   "metadata": {},
   "source": [
    "## synatax"
   ]
  },
  {
   "cell_type": "markdown",
   "id": "75ea6797",
   "metadata": {},
   "source": [
    "cv2.boxFilter(source image, destination depth, kernel size, normalize option)"
   ]
  },
  {
   "cell_type": "markdown",
   "id": "dfdad11c",
   "metadata": {},
   "source": [
    "normalize = true as the same as avg filter"
   ]
  },
  {
   "cell_type": "markdown",
   "id": "d7bb4832",
   "metadata": {},
   "source": [
    "normalize = false means any pixel's value is equal the sum value of around "
   ]
  },
  {
   "cell_type": "markdown",
   "id": "834dbcd0",
   "metadata": {},
   "source": [
    "Because the color range of an image usually is from 0 - 255, in this case, normalize = false or normalize = 0 is easy to make the pixel's value to 255,255,255 which is zero"
   ]
  },
  {
   "cell_type": "markdown",
   "id": "6c3f6781",
   "metadata": {},
   "source": [
    "## Get colorful image"
   ]
  },
  {
   "cell_type": "code",
   "execution_count": 3,
   "id": "7320d02b",
   "metadata": {},
   "outputs": [],
   "source": [
    "import cv2\n",
    "path = \"H:\\\\openCV\\\\test.jpg\"\n",
    "# be careful of path and \\\\\n",
    "imageColor = cv2.imread(path)\n",
    "# check if the image load successfully or not \n",
    "if imageColor is None:\n",
    "    print(\"Fail to load\")\n",
    "else:\n",
    "    cv2.imshow('imageColor', imageColor)\n",
    "    cv2.waitKey(0)\n",
    "    cv2.destroyAllWindows()"
   ]
  },
  {
   "cell_type": "code",
   "execution_count": 6,
   "id": "1927b999",
   "metadata": {},
   "outputs": [],
   "source": [
    "n1output = cv2.boxFilter(imageColor,-1,(5,5), normalize = 1)\n",
    "n0output = cv2.boxFilter(imageColor,-1,(5,5), normalize = 0)\n",
    "\n",
    "cv2.imshow('normalize=1', n1output)\n",
    "cv2.imshow('normalize=0', n0output)\n",
    "\n",
    "cv2.waitKey(0)\n",
    "cv2.destroyAllWindows()"
   ]
  },
  {
   "cell_type": "markdown",
   "id": "2ebb1eb8",
   "metadata": {},
   "source": [
    "The n0output is a white image, because of the normalize value is bigger than 255,255,255 "
   ]
  },
  {
   "cell_type": "code",
   "execution_count": 7,
   "id": "e1f6eee7",
   "metadata": {},
   "outputs": [],
   "source": [
    "nToutput = cv2.boxFilter(imageColor,-1,(5,5))\n",
    "\n",
    "cv2.imshow('normalize=True', nToutput)\n",
    "\n",
    "cv2.waitKey(0)\n",
    "cv2.destroyAllWindows()"
   ]
  },
  {
   "cell_type": "markdown",
   "id": "0e59d426",
   "metadata": {},
   "source": [
    "If we skip the normalize parameter, it will give a default vaule which is normalize=True"
   ]
  },
  {
   "cell_type": "code",
   "execution_count": 8,
   "id": "b1eae955",
   "metadata": {},
   "outputs": [],
   "source": [
    "nFoutput = cv2.boxFilter(imageColor,-1,(5,5),normalize=False)\n",
    "\n",
    "cv2.imshow('normalize=False', nFoutput)\n",
    "\n",
    "cv2.waitKey(0)\n",
    "cv2.destroyAllWindows()"
   ]
  },
  {
   "cell_type": "markdown",
   "id": "958f8aaa",
   "metadata": {},
   "source": [
    "So, normalize parameter could be 0(False) or 1(True)"
   ]
  },
  {
   "cell_type": "code",
   "execution_count": 9,
   "id": "92bd61be",
   "metadata": {},
   "outputs": [],
   "source": [
    "nF2output = cv2.boxFilter(imageColor,-1,(2,2),normalize=False)\n",
    "\n",
    "cv2.imshow('normalize=False,but core is (2,2)', nF2output)\n",
    "\n",
    "cv2.waitKey(0)\n",
    "cv2.destroyAllWindows()"
   ]
  },
  {
   "cell_type": "markdown",
   "id": "35993a1e",
   "metadata": {},
   "source": [
    "If we set the core is smaller,the sum will be smaller too, in this case the image would not be a 255,255,255, which could be not a white image"
   ]
  },
  {
   "cell_type": "code",
   "execution_count": null,
   "id": "b5bad773",
   "metadata": {},
   "outputs": [],
   "source": []
  }
 ],
 "metadata": {
  "kernelspec": {
   "display_name": "Python 3 (ipykernel)",
   "language": "python",
   "name": "python3"
  },
  "language_info": {
   "codemirror_mode": {
    "name": "ipython",
    "version": 3
   },
   "file_extension": ".py",
   "mimetype": "text/x-python",
   "name": "python",
   "nbconvert_exporter": "python",
   "pygments_lexer": "ipython3",
   "version": "3.10.6"
  }
 },
 "nbformat": 4,
 "nbformat_minor": 5
}
